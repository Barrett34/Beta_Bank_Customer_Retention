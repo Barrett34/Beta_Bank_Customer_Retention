{
 "cells": [
  {
   "cell_type": "markdown",
   "metadata": {},
   "source": [
    "\n",
    "<div style=\"border-radius: 15px; border: 3px solid indigo; padding: 15px;\">\n",
    "<b> Reviewer's comment 2</b>\n",
    "\n",
    "\n",
    "Thank you so much for such a good job! This is a hard topic, but everything is great in your project! You can find my new comments with digit 2. I do not have any questions, so the project can be accepted. Good luck! \n",
    "\n",
    "    \n",
    "</div>"
   ]
  },
  {
   "cell_type": "markdown",
   "metadata": {},
   "source": [
    "# Beta Bank Customer Retention Project"
   ]
  },
  {
   "cell_type": "markdown",
   "metadata": {},
   "source": [
    "## Introduction\n",
    "In this project we will investigate Beta Bank's customer behavior. Beta Bank customers are leaving: little by little, chipping away every month. The bankers figured out it’s cheaper to save the existing customers rather than to attract new ones.\n",
    "\n",
    "We need to predict whether a customer will leave the bank soon. To do this we will look at the data on the customers' past behavior and termination of contracts with the bank. We will then build a model with maximum possible F1 score with a score of at least 0.59. We will also take a look at the AUC-ROC metric and compare it to our F1 score.\n"
   ]
  },
  {
   "cell_type": "code",
   "execution_count": 2,
   "metadata": {},
   "outputs": [],
   "source": [
    "import pandas as pd\n",
    "import numpy as np\n",
    "import matplotlib.pyplot as plt\n",
    "from sklearn.preprocessing import StandardScaler\n",
    "from sklearn.model_selection import train_test_split\n",
    "from sklearn.ensemble import RandomForestClassifier\n",
    "from sklearn.tree import DecisionTreeClassifier\n",
    "from sklearn.linear_model import LogisticRegression\n",
    "from sklearn.preprocessing import OrdinalEncoder\n",
    "from sklearn.utils import shuffle\n",
    "from sklearn.metrics import confusion_matrix, accuracy_score, recall_score, precision_score, f1_score, roc_curve, roc_auc_score\n",
    "import pylab as pl"
   ]
  },
  {
   "cell_type": "markdown",
   "metadata": {},
   "source": [
    "## Data Preperation"
   ]
  },
  {
   "cell_type": "code",
   "execution_count": 3,
   "metadata": {},
   "outputs": [
    {
     "name": "stdout",
     "output_type": "stream",
     "text": [
      "<class 'pandas.core.frame.DataFrame'>\n",
      "RangeIndex: 10000 entries, 0 to 9999\n",
      "Data columns (total 14 columns):\n",
      " #   Column           Non-Null Count  Dtype  \n",
      "---  ------           --------------  -----  \n",
      " 0   RowNumber        10000 non-null  int64  \n",
      " 1   CustomerId       10000 non-null  int64  \n",
      " 2   Surname          10000 non-null  object \n",
      " 3   CreditScore      10000 non-null  int64  \n",
      " 4   Geography        10000 non-null  object \n",
      " 5   Gender           10000 non-null  object \n",
      " 6   Age              10000 non-null  int64  \n",
      " 7   Tenure           9091 non-null   float64\n",
      " 8   Balance          10000 non-null  float64\n",
      " 9   NumOfProducts    10000 non-null  int64  \n",
      " 10  HasCrCard        10000 non-null  int64  \n",
      " 11  IsActiveMember   10000 non-null  int64  \n",
      " 12  EstimatedSalary  10000 non-null  float64\n",
      " 13  Exited           10000 non-null  int64  \n",
      "dtypes: float64(3), int64(8), object(3)\n",
      "memory usage: 1.1+ MB\n"
     ]
    }
   ],
   "source": [
    "data = pd.read_csv('/datasets/Churn.csv')\n",
    "data.info()"
   ]
  },
  {
   "cell_type": "code",
   "execution_count": 4,
   "metadata": {},
   "outputs": [
    {
     "data": {
      "text/html": [
       "<div>\n",
       "<style scoped>\n",
       "    .dataframe tbody tr th:only-of-type {\n",
       "        vertical-align: middle;\n",
       "    }\n",
       "\n",
       "    .dataframe tbody tr th {\n",
       "        vertical-align: top;\n",
       "    }\n",
       "\n",
       "    .dataframe thead th {\n",
       "        text-align: right;\n",
       "    }\n",
       "</style>\n",
       "<table border=\"1\" class=\"dataframe\">\n",
       "  <thead>\n",
       "    <tr style=\"text-align: right;\">\n",
       "      <th></th>\n",
       "      <th>RowNumber</th>\n",
       "      <th>CustomerId</th>\n",
       "      <th>Surname</th>\n",
       "      <th>CreditScore</th>\n",
       "      <th>Geography</th>\n",
       "      <th>Gender</th>\n",
       "      <th>Age</th>\n",
       "      <th>Tenure</th>\n",
       "      <th>Balance</th>\n",
       "      <th>NumOfProducts</th>\n",
       "      <th>HasCrCard</th>\n",
       "      <th>IsActiveMember</th>\n",
       "      <th>EstimatedSalary</th>\n",
       "      <th>Exited</th>\n",
       "    </tr>\n",
       "  </thead>\n",
       "  <tbody>\n",
       "    <tr>\n",
       "      <th>0</th>\n",
       "      <td>1</td>\n",
       "      <td>15634602</td>\n",
       "      <td>Hargrave</td>\n",
       "      <td>619</td>\n",
       "      <td>France</td>\n",
       "      <td>Female</td>\n",
       "      <td>42</td>\n",
       "      <td>2.0</td>\n",
       "      <td>0.00</td>\n",
       "      <td>1</td>\n",
       "      <td>1</td>\n",
       "      <td>1</td>\n",
       "      <td>101348.88</td>\n",
       "      <td>1</td>\n",
       "    </tr>\n",
       "    <tr>\n",
       "      <th>1</th>\n",
       "      <td>2</td>\n",
       "      <td>15647311</td>\n",
       "      <td>Hill</td>\n",
       "      <td>608</td>\n",
       "      <td>Spain</td>\n",
       "      <td>Female</td>\n",
       "      <td>41</td>\n",
       "      <td>1.0</td>\n",
       "      <td>83807.86</td>\n",
       "      <td>1</td>\n",
       "      <td>0</td>\n",
       "      <td>1</td>\n",
       "      <td>112542.58</td>\n",
       "      <td>0</td>\n",
       "    </tr>\n",
       "    <tr>\n",
       "      <th>2</th>\n",
       "      <td>3</td>\n",
       "      <td>15619304</td>\n",
       "      <td>Onio</td>\n",
       "      <td>502</td>\n",
       "      <td>France</td>\n",
       "      <td>Female</td>\n",
       "      <td>42</td>\n",
       "      <td>8.0</td>\n",
       "      <td>159660.80</td>\n",
       "      <td>3</td>\n",
       "      <td>1</td>\n",
       "      <td>0</td>\n",
       "      <td>113931.57</td>\n",
       "      <td>1</td>\n",
       "    </tr>\n",
       "    <tr>\n",
       "      <th>3</th>\n",
       "      <td>4</td>\n",
       "      <td>15701354</td>\n",
       "      <td>Boni</td>\n",
       "      <td>699</td>\n",
       "      <td>France</td>\n",
       "      <td>Female</td>\n",
       "      <td>39</td>\n",
       "      <td>1.0</td>\n",
       "      <td>0.00</td>\n",
       "      <td>2</td>\n",
       "      <td>0</td>\n",
       "      <td>0</td>\n",
       "      <td>93826.63</td>\n",
       "      <td>0</td>\n",
       "    </tr>\n",
       "    <tr>\n",
       "      <th>4</th>\n",
       "      <td>5</td>\n",
       "      <td>15737888</td>\n",
       "      <td>Mitchell</td>\n",
       "      <td>850</td>\n",
       "      <td>Spain</td>\n",
       "      <td>Female</td>\n",
       "      <td>43</td>\n",
       "      <td>2.0</td>\n",
       "      <td>125510.82</td>\n",
       "      <td>1</td>\n",
       "      <td>1</td>\n",
       "      <td>1</td>\n",
       "      <td>79084.10</td>\n",
       "      <td>0</td>\n",
       "    </tr>\n",
       "    <tr>\n",
       "      <th>...</th>\n",
       "      <td>...</td>\n",
       "      <td>...</td>\n",
       "      <td>...</td>\n",
       "      <td>...</td>\n",
       "      <td>...</td>\n",
       "      <td>...</td>\n",
       "      <td>...</td>\n",
       "      <td>...</td>\n",
       "      <td>...</td>\n",
       "      <td>...</td>\n",
       "      <td>...</td>\n",
       "      <td>...</td>\n",
       "      <td>...</td>\n",
       "      <td>...</td>\n",
       "    </tr>\n",
       "    <tr>\n",
       "      <th>9995</th>\n",
       "      <td>9996</td>\n",
       "      <td>15606229</td>\n",
       "      <td>Obijiaku</td>\n",
       "      <td>771</td>\n",
       "      <td>France</td>\n",
       "      <td>Male</td>\n",
       "      <td>39</td>\n",
       "      <td>5.0</td>\n",
       "      <td>0.00</td>\n",
       "      <td>2</td>\n",
       "      <td>1</td>\n",
       "      <td>0</td>\n",
       "      <td>96270.64</td>\n",
       "      <td>0</td>\n",
       "    </tr>\n",
       "    <tr>\n",
       "      <th>9996</th>\n",
       "      <td>9997</td>\n",
       "      <td>15569892</td>\n",
       "      <td>Johnstone</td>\n",
       "      <td>516</td>\n",
       "      <td>France</td>\n",
       "      <td>Male</td>\n",
       "      <td>35</td>\n",
       "      <td>10.0</td>\n",
       "      <td>57369.61</td>\n",
       "      <td>1</td>\n",
       "      <td>1</td>\n",
       "      <td>1</td>\n",
       "      <td>101699.77</td>\n",
       "      <td>0</td>\n",
       "    </tr>\n",
       "    <tr>\n",
       "      <th>9997</th>\n",
       "      <td>9998</td>\n",
       "      <td>15584532</td>\n",
       "      <td>Liu</td>\n",
       "      <td>709</td>\n",
       "      <td>France</td>\n",
       "      <td>Female</td>\n",
       "      <td>36</td>\n",
       "      <td>7.0</td>\n",
       "      <td>0.00</td>\n",
       "      <td>1</td>\n",
       "      <td>0</td>\n",
       "      <td>1</td>\n",
       "      <td>42085.58</td>\n",
       "      <td>1</td>\n",
       "    </tr>\n",
       "    <tr>\n",
       "      <th>9998</th>\n",
       "      <td>9999</td>\n",
       "      <td>15682355</td>\n",
       "      <td>Sabbatini</td>\n",
       "      <td>772</td>\n",
       "      <td>Germany</td>\n",
       "      <td>Male</td>\n",
       "      <td>42</td>\n",
       "      <td>3.0</td>\n",
       "      <td>75075.31</td>\n",
       "      <td>2</td>\n",
       "      <td>1</td>\n",
       "      <td>0</td>\n",
       "      <td>92888.52</td>\n",
       "      <td>1</td>\n",
       "    </tr>\n",
       "    <tr>\n",
       "      <th>9999</th>\n",
       "      <td>10000</td>\n",
       "      <td>15628319</td>\n",
       "      <td>Walker</td>\n",
       "      <td>792</td>\n",
       "      <td>France</td>\n",
       "      <td>Female</td>\n",
       "      <td>28</td>\n",
       "      <td>NaN</td>\n",
       "      <td>130142.79</td>\n",
       "      <td>1</td>\n",
       "      <td>1</td>\n",
       "      <td>0</td>\n",
       "      <td>38190.78</td>\n",
       "      <td>0</td>\n",
       "    </tr>\n",
       "  </tbody>\n",
       "</table>\n",
       "<p>10000 rows × 14 columns</p>\n",
       "</div>"
      ],
      "text/plain": [
       "      RowNumber  CustomerId    Surname  CreditScore Geography  Gender  Age  \\\n",
       "0             1    15634602   Hargrave          619    France  Female   42   \n",
       "1             2    15647311       Hill          608     Spain  Female   41   \n",
       "2             3    15619304       Onio          502    France  Female   42   \n",
       "3             4    15701354       Boni          699    France  Female   39   \n",
       "4             5    15737888   Mitchell          850     Spain  Female   43   \n",
       "...         ...         ...        ...          ...       ...     ...  ...   \n",
       "9995       9996    15606229   Obijiaku          771    France    Male   39   \n",
       "9996       9997    15569892  Johnstone          516    France    Male   35   \n",
       "9997       9998    15584532        Liu          709    France  Female   36   \n",
       "9998       9999    15682355  Sabbatini          772   Germany    Male   42   \n",
       "9999      10000    15628319     Walker          792    France  Female   28   \n",
       "\n",
       "      Tenure    Balance  NumOfProducts  HasCrCard  IsActiveMember  \\\n",
       "0        2.0       0.00              1          1               1   \n",
       "1        1.0   83807.86              1          0               1   \n",
       "2        8.0  159660.80              3          1               0   \n",
       "3        1.0       0.00              2          0               0   \n",
       "4        2.0  125510.82              1          1               1   \n",
       "...      ...        ...            ...        ...             ...   \n",
       "9995     5.0       0.00              2          1               0   \n",
       "9996    10.0   57369.61              1          1               1   \n",
       "9997     7.0       0.00              1          0               1   \n",
       "9998     3.0   75075.31              2          1               0   \n",
       "9999     NaN  130142.79              1          1               0   \n",
       "\n",
       "      EstimatedSalary  Exited  \n",
       "0           101348.88       1  \n",
       "1           112542.58       0  \n",
       "2           113931.57       1  \n",
       "3            93826.63       0  \n",
       "4            79084.10       0  \n",
       "...               ...     ...  \n",
       "9995         96270.64       0  \n",
       "9996        101699.77       0  \n",
       "9997         42085.58       1  \n",
       "9998         92888.52       1  \n",
       "9999         38190.78       0  \n",
       "\n",
       "[10000 rows x 14 columns]"
      ]
     },
     "metadata": {},
     "output_type": "display_data"
    }
   ],
   "source": [
    "display(data)"
   ]
  },
  {
   "cell_type": "code",
   "execution_count": 5,
   "metadata": {},
   "outputs": [
    {
     "name": "stdout",
     "output_type": "stream",
     "text": [
      "RowNumber            int64\n",
      "CustomerId           int64\n",
      "Surname             object\n",
      "CreditScore          int64\n",
      "Geography           object\n",
      "Gender              object\n",
      "Age                  int64\n",
      "Tenure             float64\n",
      "Balance            float64\n",
      "NumOfProducts        int64\n",
      "HasCrCard            int64\n",
      "IsActiveMember       int64\n",
      "EstimatedSalary    float64\n",
      "Exited               int64\n",
      "dtype: object\n"
     ]
    }
   ],
   "source": [
    "print(data.dtypes)"
   ]
  },
  {
   "cell_type": "code",
   "execution_count": 6,
   "metadata": {},
   "outputs": [
    {
     "data": {
      "text/plain": [
       "0"
      ]
     },
     "execution_count": 6,
     "metadata": {},
     "output_type": "execute_result"
    }
   ],
   "source": [
    "data.duplicated().sum()"
   ]
  },
  {
   "cell_type": "code",
   "execution_count": 7,
   "metadata": {},
   "outputs": [
    {
     "data": {
      "text/plain": [
       "RowNumber            0\n",
       "CustomerId           0\n",
       "Surname              0\n",
       "CreditScore          0\n",
       "Geography            0\n",
       "Gender               0\n",
       "Age                  0\n",
       "Tenure             909\n",
       "Balance              0\n",
       "NumOfProducts        0\n",
       "HasCrCard            0\n",
       "IsActiveMember       0\n",
       "EstimatedSalary      0\n",
       "Exited               0\n",
       "dtype: int64"
      ]
     },
     "execution_count": 7,
     "metadata": {},
     "output_type": "execute_result"
    }
   ],
   "source": [
    "data.isnull().sum()"
   ]
  },
  {
   "cell_type": "code",
   "execution_count": 8,
   "metadata": {},
   "outputs": [
    {
     "data": {
      "text/plain": [
       "0"
      ]
     },
     "execution_count": 8,
     "metadata": {},
     "output_type": "execute_result"
    }
   ],
   "source": [
    "data['CustomerId'].duplicated().sum()"
   ]
  },
  {
   "cell_type": "markdown",
   "metadata": {},
   "source": [
    "Data has 13 columns and 10,000 rows.\n",
    "The `Tenure` column has 909 rows with missing values.\n",
    "The data type for `Tenure` should be int64 instead of float because it represents years."
   ]
  },
  {
   "cell_type": "code",
   "execution_count": 9,
   "metadata": {},
   "outputs": [],
   "source": [
    "data['Tenure'] = data['Tenure'].fillna(data['Tenure'].median())\n",
    "data['Tenure'] = data['Tenure'].astype(int)"
   ]
  },
  {
   "cell_type": "code",
   "execution_count": 10,
   "metadata": {},
   "outputs": [
    {
     "name": "stdout",
     "output_type": "stream",
     "text": [
      "<class 'pandas.core.frame.DataFrame'>\n",
      "RangeIndex: 10000 entries, 0 to 9999\n",
      "Data columns (total 14 columns):\n",
      " #   Column           Non-Null Count  Dtype  \n",
      "---  ------           --------------  -----  \n",
      " 0   RowNumber        10000 non-null  int64  \n",
      " 1   CustomerId       10000 non-null  int64  \n",
      " 2   Surname          10000 non-null  object \n",
      " 3   CreditScore      10000 non-null  int64  \n",
      " 4   Geography        10000 non-null  object \n",
      " 5   Gender           10000 non-null  object \n",
      " 6   Age              10000 non-null  int64  \n",
      " 7   Tenure           10000 non-null  int64  \n",
      " 8   Balance          10000 non-null  float64\n",
      " 9   NumOfProducts    10000 non-null  int64  \n",
      " 10  HasCrCard        10000 non-null  int64  \n",
      " 11  IsActiveMember   10000 non-null  int64  \n",
      " 12  EstimatedSalary  10000 non-null  float64\n",
      " 13  Exited           10000 non-null  int64  \n",
      "dtypes: float64(2), int64(9), object(3)\n",
      "memory usage: 1.1+ MB\n"
     ]
    }
   ],
   "source": [
    "data.info()"
   ]
  },
  {
   "cell_type": "code",
   "execution_count": 11,
   "metadata": {},
   "outputs": [
    {
     "data": {
      "text/plain": [
       "Text(0, 0.5, 'Client Frequency')"
      ]
     },
     "execution_count": 11,
     "metadata": {},
     "output_type": "execute_result"
    },
    {
     "data": {
      "image/png": "[encoded data removed]",
      "text/plain": [
       "<Figure size 640x480 with 1 Axes>"
      ]
     },
     "metadata": {},
     "output_type": "display_data"
    }
   ],
   "source": [
    "data.hist(column='Age')\n",
    "pl.title('Histogram of Client Age')\n",
    "pl.xlabel('Age')\n",
    "pl.ylabel('Client Frequency')"
   ]
  },
  {
   "cell_type": "code",
   "execution_count": 12,
   "metadata": {},
   "outputs": [
    {
     "data": {
      "text/plain": [
       "Text(0, 0.5, 'Balance Frequency')"
      ]
     },
     "execution_count": 12,
     "metadata": {},
     "output_type": "execute_result"
    },
    {
     "data": {
      "image/png": "[encoded data removed]",
      "text/plain": [
       "<Figure size 640x480 with 1 Axes>"
      ]
     },
     "metadata": {},
     "output_type": "display_data"
    }
   ],
   "source": [
    "data.hist(column='Balance')\n",
    "pl.title('Histogram of Client Balances')\n",
    "pl.xlabel('Balance Amount')\n",
    "pl.ylabel('Balance Frequency')"
   ]
  },
  {
   "cell_type": "code",
   "execution_count": 13,
   "metadata": {},
   "outputs": [
    {
     "data": {
      "text/plain": [
       "Text(0, 0.5, 'Salary Frequency')"
      ]
     },
     "execution_count": 13,
     "metadata": {},
     "output_type": "execute_result"
    },
    {
     "data": {
      "image/png": "[encoded data removed]",
      "text/plain": [
       "<Figure size 640x480 with 1 Axes>"
      ]
     },
     "metadata": {},
     "output_type": "display_data"
    }
   ],
   "source": [
    "data.hist(column='EstimatedSalary')\n",
    "pl.title('Histogram of Clients\\' Estimated Salaries')\n",
    "pl.xlabel('Salary')\n",
    "pl.ylabel('Salary Frequency')"
   ]
  },
  {
   "cell_type": "code",
   "execution_count": 14,
   "metadata": {},
   "outputs": [
    {
     "data": {
      "text/plain": [
       "Text(0, 0.5, 'Client Frequency')"
      ]
     },
     "execution_count": 14,
     "metadata": {},
     "output_type": "execute_result"
    },
    {
     "data": {
      "image/png": "[encoded data removed]",
      "text/plain": [
       "<Figure size 640x480 with 1 Axes>"
      ]
     },
     "metadata": {},
     "output_type": "display_data"
    }
   ],
   "source": [
    "data.hist(column='CreditScore')\n",
    "pl.title('Histogram of Clients\\' Credit Scores')\n",
    "pl.xlabel('Credit Score')\n",
    "pl.ylabel('Client Frequency')"
   ]
  },
  {
   "cell_type": "markdown",
   "metadata": {},
   "source": [
    "## Model Creation\n",
    "### Label Encoding"
   ]
  },
  {
   "cell_type": "code",
   "execution_count": 15,
   "metadata": {},
   "outputs": [
    {
     "data": {
      "text/plain": [
       "array(['Female', 'Male'], dtype=object)"
      ]
     },
     "execution_count": 15,
     "metadata": {},
     "output_type": "execute_result"
    }
   ],
   "source": [
    "data['Gender'].unique()"
   ]
  },
  {
   "cell_type": "code",
   "execution_count": 16,
   "metadata": {},
   "outputs": [],
   "source": [
    "new_data = data.drop(['Surname', 'RowNumber', 'CustomerId'], axis = 1)"
   ]
  },
  {
   "cell_type": "code",
   "execution_count": 17,
   "metadata": {},
   "outputs": [],
   "source": [
    "encoder = OrdinalEncoder()\n",
    "data['Geography'] = encoder.fit_transform(data[['Geography']])"
   ]
  },
  {
   "cell_type": "code",
   "execution_count": 18,
   "metadata": {},
   "outputs": [],
   "source": [
    "data_ordinal = pd.DataFrame(encoder.fit_transform(new_data), columns=new_data.columns)"
   ]
  },
  {
   "cell_type": "code",
   "execution_count": 19,
   "metadata": {},
   "outputs": [
    {
     "data": {
      "text/html": [
       "<div>\n",
       "<style scoped>\n",
       "    .dataframe tbody tr th:only-of-type {\n",
       "        vertical-align: middle;\n",
       "    }\n",
       "\n",
       "    .dataframe tbody tr th {\n",
       "        vertical-align: top;\n",
       "    }\n",
       "\n",
       "    .dataframe thead th {\n",
       "        text-align: right;\n",
       "    }\n",
       "</style>\n",
       "<table border=\"1\" class=\"dataframe\">\n",
       "  <thead>\n",
       "    <tr style=\"text-align: right;\">\n",
       "      <th></th>\n",
       "      <th>CreditScore</th>\n",
       "      <th>Geography</th>\n",
       "      <th>Gender</th>\n",
       "      <th>Age</th>\n",
       "      <th>Tenure</th>\n",
       "      <th>Balance</th>\n",
       "      <th>NumOfProducts</th>\n",
       "      <th>HasCrCard</th>\n",
       "      <th>IsActiveMember</th>\n",
       "      <th>EstimatedSalary</th>\n",
       "      <th>Exited</th>\n",
       "    </tr>\n",
       "  </thead>\n",
       "  <tbody>\n",
       "    <tr>\n",
       "      <th>0</th>\n",
       "      <td>228.0</td>\n",
       "      <td>0.0</td>\n",
       "      <td>0.0</td>\n",
       "      <td>24.0</td>\n",
       "      <td>2.0</td>\n",
       "      <td>0.0</td>\n",
       "      <td>0.0</td>\n",
       "      <td>1.0</td>\n",
       "      <td>1.0</td>\n",
       "      <td>5068.0</td>\n",
       "      <td>1.0</td>\n",
       "    </tr>\n",
       "    <tr>\n",
       "      <th>1</th>\n",
       "      <td>217.0</td>\n",
       "      <td>2.0</td>\n",
       "      <td>0.0</td>\n",
       "      <td>23.0</td>\n",
       "      <td>1.0</td>\n",
       "      <td>743.0</td>\n",
       "      <td>0.0</td>\n",
       "      <td>0.0</td>\n",
       "      <td>1.0</td>\n",
       "      <td>5639.0</td>\n",
       "      <td>0.0</td>\n",
       "    </tr>\n",
       "    <tr>\n",
       "      <th>2</th>\n",
       "      <td>111.0</td>\n",
       "      <td>0.0</td>\n",
       "      <td>0.0</td>\n",
       "      <td>24.0</td>\n",
       "      <td>8.0</td>\n",
       "      <td>5793.0</td>\n",
       "      <td>2.0</td>\n",
       "      <td>1.0</td>\n",
       "      <td>0.0</td>\n",
       "      <td>5707.0</td>\n",
       "      <td>1.0</td>\n",
       "    </tr>\n",
       "    <tr>\n",
       "      <th>3</th>\n",
       "      <td>308.0</td>\n",
       "      <td>0.0</td>\n",
       "      <td>0.0</td>\n",
       "      <td>21.0</td>\n",
       "      <td>1.0</td>\n",
       "      <td>0.0</td>\n",
       "      <td>1.0</td>\n",
       "      <td>0.0</td>\n",
       "      <td>0.0</td>\n",
       "      <td>4704.0</td>\n",
       "      <td>0.0</td>\n",
       "    </tr>\n",
       "    <tr>\n",
       "      <th>4</th>\n",
       "      <td>459.0</td>\n",
       "      <td>2.0</td>\n",
       "      <td>0.0</td>\n",
       "      <td>25.0</td>\n",
       "      <td>2.0</td>\n",
       "      <td>3696.0</td>\n",
       "      <td>0.0</td>\n",
       "      <td>1.0</td>\n",
       "      <td>1.0</td>\n",
       "      <td>3925.0</td>\n",
       "      <td>0.0</td>\n",
       "    </tr>\n",
       "  </tbody>\n",
       "</table>\n",
       "</div>"
      ],
      "text/plain": [
       "   CreditScore  Geography  Gender   Age  Tenure  Balance  NumOfProducts  \\\n",
       "0        228.0        0.0     0.0  24.0     2.0      0.0            0.0   \n",
       "1        217.0        2.0     0.0  23.0     1.0    743.0            0.0   \n",
       "2        111.0        0.0     0.0  24.0     8.0   5793.0            2.0   \n",
       "3        308.0        0.0     0.0  21.0     1.0      0.0            1.0   \n",
       "4        459.0        2.0     0.0  25.0     2.0   3696.0            0.0   \n",
       "\n",
       "   HasCrCard  IsActiveMember  EstimatedSalary  Exited  \n",
       "0        1.0             1.0           5068.0     1.0  \n",
       "1        0.0             1.0           5639.0     0.0  \n",
       "2        1.0             0.0           5707.0     1.0  \n",
       "3        0.0             0.0           4704.0     0.0  \n",
       "4        1.0             1.0           3925.0     0.0  "
      ]
     },
     "execution_count": 19,
     "metadata": {},
     "output_type": "execute_result"
    }
   ],
   "source": [
    "data_ordinal.head()"
   ]
  },
  {
   "cell_type": "markdown",
   "metadata": {},
   "source": [
    "Before we train our model, it's better to have string features converted to numerical values.\n",
    "\n",
    "The surname, rownumber, and customerId columns are deleted from our features because it is unlikely to significantly impact the model's performance even if encoding is applied.\n",
    "\n",
    "Ordinal encoding is performed because it is more suitable for models with tree-based systems like Decision Tress and Random Forests."
   ]
  },
  {
   "cell_type": "markdown",
   "metadata": {},
   "source": [
    "### Target and Features Setup"
   ]
  },
  {
   "cell_type": "code",
   "execution_count": 20,
   "metadata": {},
   "outputs": [
    {
     "data": {
      "text/plain": [
       "(10000,)"
      ]
     },
     "execution_count": 20,
     "metadata": {},
     "output_type": "execute_result"
    }
   ],
   "source": [
    "target = data_ordinal['Exited']\n",
    "target.shape"
   ]
  },
  {
   "cell_type": "code",
   "execution_count": 21,
   "metadata": {},
   "outputs": [
    {
     "data": {
      "text/plain": [
       "(10000, 10)"
      ]
     },
     "execution_count": 21,
     "metadata": {},
     "output_type": "execute_result"
    }
   ],
   "source": [
    "features = data_ordinal.drop('Exited', axis=1)\n",
    "features.shape"
   ]
  },
  {
   "cell_type": "code",
   "execution_count": 22,
   "metadata": {},
   "outputs": [],
   "source": [
    "features_train, features_test, target_train, target_test =train_test_split(features,target,test_size=0.2,random_state=12345)\n",
    "\n",
    "features_train, features_valid, target_train, target_valid =train_test_split(features_train,target_train,test_size=.25,random_state=12345)"
   ]
  },
  {
   "cell_type": "code",
   "execution_count": 23,
   "metadata": {},
   "outputs": [
    {
     "data": {
      "text/plain": [
       "(6000, 10)"
      ]
     },
     "execution_count": 23,
     "metadata": {},
     "output_type": "execute_result"
    }
   ],
   "source": [
    "features_train.shape"
   ]
  },
  {
   "cell_type": "code",
   "execution_count": 24,
   "metadata": {},
   "outputs": [
    {
     "data": {
      "text/plain": [
       "(2000, 10)"
      ]
     },
     "execution_count": 24,
     "metadata": {},
     "output_type": "execute_result"
    }
   ],
   "source": [
    "features_valid.shape"
   ]
  },
  {
   "cell_type": "code",
   "execution_count": 25,
   "metadata": {},
   "outputs": [
    {
     "data": {
      "text/plain": [
       "(6000,)"
      ]
     },
     "execution_count": 25,
     "metadata": {},
     "output_type": "execute_result"
    }
   ],
   "source": [
    "target_train.shape"
   ]
  },
  {
   "cell_type": "code",
   "execution_count": 26,
   "metadata": {},
   "outputs": [
    {
     "data": {
      "text/plain": [
       "(2000,)"
      ]
     },
     "execution_count": 26,
     "metadata": {},
     "output_type": "execute_result"
    }
   ],
   "source": [
    "target_valid.shape"
   ]
  },
  {
   "cell_type": "code",
   "execution_count": 27,
   "metadata": {},
   "outputs": [
    {
     "data": {
      "text/plain": [
       "(2000, 10)"
      ]
     },
     "execution_count": 27,
     "metadata": {},
     "output_type": "execute_result"
    }
   ],
   "source": [
    "features_test.shape"
   ]
  },
  {
   "cell_type": "markdown",
   "metadata": {},
   "source": [
    "### Features Scaling"
   ]
  },
  {
   "cell_type": "code",
   "execution_count": 28,
   "metadata": {},
   "outputs": [
    {
     "data": {
      "text/html": [
       "<div>\n",
       "<style scoped>\n",
       "    .dataframe tbody tr th:only-of-type {\n",
       "        vertical-align: middle;\n",
       "    }\n",
       "\n",
       "    .dataframe tbody tr th {\n",
       "        vertical-align: top;\n",
       "    }\n",
       "\n",
       "    .dataframe thead th {\n",
       "        text-align: right;\n",
       "    }\n",
       "</style>\n",
       "<table border=\"1\" class=\"dataframe\">\n",
       "  <thead>\n",
       "    <tr style=\"text-align: right;\">\n",
       "      <th></th>\n",
       "      <th>CreditScore</th>\n",
       "      <th>Geography</th>\n",
       "      <th>Gender</th>\n",
       "      <th>Age</th>\n",
       "      <th>Tenure</th>\n",
       "      <th>Balance</th>\n",
       "      <th>NumOfProducts</th>\n",
       "      <th>HasCrCard</th>\n",
       "      <th>IsActiveMember</th>\n",
       "      <th>EstimatedSalary</th>\n",
       "    </tr>\n",
       "  </thead>\n",
       "  <tbody>\n",
       "    <tr>\n",
       "      <th>492</th>\n",
       "      <td>248.0</td>\n",
       "      <td>0.0</td>\n",
       "      <td>0.0</td>\n",
       "      <td>20.0</td>\n",
       "      <td>4.0</td>\n",
       "      <td>639.0</td>\n",
       "      <td>1.0</td>\n",
       "      <td>0.0</td>\n",
       "      <td>1.0</td>\n",
       "      <td>5959.0</td>\n",
       "    </tr>\n",
       "    <tr>\n",
       "      <th>6655</th>\n",
       "      <td>163.0</td>\n",
       "      <td>0.0</td>\n",
       "      <td>1.0</td>\n",
       "      <td>26.0</td>\n",
       "      <td>5.0</td>\n",
       "      <td>798.0</td>\n",
       "      <td>0.0</td>\n",
       "      <td>1.0</td>\n",
       "      <td>1.0</td>\n",
       "      <td>2870.0</td>\n",
       "    </tr>\n",
       "    <tr>\n",
       "      <th>4287</th>\n",
       "      <td>323.0</td>\n",
       "      <td>1.0</td>\n",
       "      <td>1.0</td>\n",
       "      <td>35.0</td>\n",
       "      <td>1.0</td>\n",
       "      <td>1524.0</td>\n",
       "      <td>0.0</td>\n",
       "      <td>1.0</td>\n",
       "      <td>1.0</td>\n",
       "      <td>3587.0</td>\n",
       "    </tr>\n",
       "    <tr>\n",
       "      <th>42</th>\n",
       "      <td>165.0</td>\n",
       "      <td>0.0</td>\n",
       "      <td>0.0</td>\n",
       "      <td>43.0</td>\n",
       "      <td>2.0</td>\n",
       "      <td>2994.0</td>\n",
       "      <td>0.0</td>\n",
       "      <td>1.0</td>\n",
       "      <td>1.0</td>\n",
       "      <td>4724.0</td>\n",
       "    </tr>\n",
       "    <tr>\n",
       "      <th>8178</th>\n",
       "      <td>316.0</td>\n",
       "      <td>0.0</td>\n",
       "      <td>0.0</td>\n",
       "      <td>28.0</td>\n",
       "      <td>7.0</td>\n",
       "      <td>3864.0</td>\n",
       "      <td>1.0</td>\n",
       "      <td>1.0</td>\n",
       "      <td>1.0</td>\n",
       "      <td>7331.0</td>\n",
       "    </tr>\n",
       "  </tbody>\n",
       "</table>\n",
       "</div>"
      ],
      "text/plain": [
       "      CreditScore  Geography  Gender   Age  Tenure  Balance  NumOfProducts  \\\n",
       "492         248.0        0.0     0.0  20.0     4.0    639.0            1.0   \n",
       "6655        163.0        0.0     1.0  26.0     5.0    798.0            0.0   \n",
       "4287        323.0        1.0     1.0  35.0     1.0   1524.0            0.0   \n",
       "42          165.0        0.0     0.0  43.0     2.0   2994.0            0.0   \n",
       "8178        316.0        0.0     0.0  28.0     7.0   3864.0            1.0   \n",
       "\n",
       "      HasCrCard  IsActiveMember  EstimatedSalary  \n",
       "492         0.0             1.0           5959.0  \n",
       "6655        1.0             1.0           2870.0  \n",
       "4287        1.0             1.0           3587.0  \n",
       "42          1.0             1.0           4724.0  \n",
       "8178        1.0             1.0           7331.0  "
      ]
     },
     "execution_count": 28,
     "metadata": {},
     "output_type": "execute_result"
    }
   ],
   "source": [
    "features_train.head()"
   ]
  },
  {
   "cell_type": "code",
   "execution_count": 29,
   "metadata": {
    "scrolled": true
   },
   "outputs": [
    {
     "name": "stdout",
     "output_type": "stream",
     "text": [
      "      CreditScore       Age    Tenure   Balance  NumOfProducts  \\\n",
      "492     -0.134724 -0.078018 -0.369113 -0.659901       0.816929   \n",
      "6655    -1.012686  0.494825 -0.007415 -0.585198      -0.896909   \n",
      "4287     0.639948  1.354090 -1.454209 -0.244099      -0.896909   \n",
      "42      -0.992028  2.117882 -1.092511  0.446555      -0.896909   \n",
      "8178     0.567645  0.685773  0.715982  0.855309       0.816929   \n",
      "...           ...       ...       ...       ...            ...   \n",
      "8819    -0.620185 -0.268966  1.801078  0.677243      -0.896909   \n",
      "1537     1.745146 -1.032757  1.077681 -0.960124      -0.896909   \n",
      "1408     0.567645 -0.650861  1.439380 -0.960124       0.816929   \n",
      "7661    -0.413606  0.494825 -1.092511  0.353058      -0.896909   \n",
      "3295     1.053106 -1.892022  1.439380 -0.960124      -0.896909   \n",
      "\n",
      "      EstimatedSalary  Geography    Gender  HasCrCard  IsActiveMember  \n",
      "492          0.335913  -0.905741 -1.103311  -1.550255        0.968496  \n",
      "6655        -0.734650  -0.905741  0.906363   0.645055        0.968496  \n",
      "4287        -0.486158   0.301109  0.906363   0.645055        0.968496  \n",
      "42          -0.092105  -0.905741 -1.103311   0.645055        0.968496  \n",
      "8178         0.811410  -0.905741 -1.103311   0.645055        0.968496  \n",
      "...               ...        ...       ...        ...             ...  \n",
      "8819         0.813143   0.301109  0.906363  -1.550255        0.968496  \n",
      "1537        -1.101324  -0.905741 -1.103311   0.645055        0.968496  \n",
      "1408        -1.206682  -0.905741  0.906363  -1.550255       -1.032529  \n",
      "7661        -0.036653   0.301109  0.906363   0.645055        0.968496  \n",
      "3295         1.553769   1.507960 -1.103311   0.645055       -1.032529  \n",
      "\n",
      "[6000 rows x 10 columns]\n",
      "      CreditScore       Age    Tenure   Balance  NumOfProducts  \\\n",
      "2358     0.175145  0.399351 -1.454209  1.806720      -0.896909   \n",
      "8463    -1.301896  0.972195 -1.092511 -0.960124      -0.896909   \n",
      "163      0.712251 -0.268966 -1.092511 -0.960124       0.816929   \n",
      "3074    -0.392948  0.494825  0.354284  0.496357      -0.896909   \n",
      "5989     0.164816  1.354090  1.801078  0.162306      -0.896909   \n",
      "...           ...       ...       ...       ...            ...   \n",
      "207     -0.351632 -0.459914 -0.007415  1.140028      -0.896909   \n",
      "8746     0.082184 -0.459914  1.077681  0.015248       0.816929   \n",
      "1809    -0.134724  1.067669  0.354284  0.361045       0.816929   \n",
      "5919    -0.072750  0.972195  1.077681 -0.960124       0.816929   \n",
      "4995     1.600541 -0.268966 -0.369113 -0.960124       0.816929   \n",
      "\n",
      "      EstimatedSalary  Geography    Gender  HasCrCard  IsActiveMember  \n",
      "2358        -1.461759  -0.905741  0.906363  -1.550255        0.968496  \n",
      "8463         0.258280   1.507960  0.906363   0.645055       -1.032529  \n",
      "163          0.132474   1.507960 -1.103311   0.645055        0.968496  \n",
      "3074         0.595495   0.301109 -1.103311   0.645055       -1.032529  \n",
      "5989         1.462967  -0.905741 -1.103311  -1.550255       -1.032529  \n",
      "...               ...        ...       ...        ...             ...  \n",
      "207          0.914689  -0.905741  0.906363   0.645055        0.968496  \n",
      "8746         1.432122  -0.905741  0.906363  -1.550255        0.968496  \n",
      "1809        -0.827532  -0.905741 -1.103311   0.645055        0.968496  \n",
      "5919         1.075845   1.507960  0.906363   0.645055       -1.032529  \n",
      "4995         0.830818  -0.905741 -1.103311  -1.550255        0.968496  \n",
      "\n",
      "[2000 rows x 10 columns]\n",
      "      CreditScore       Age    Tenure   Balance  NumOfProducts  \\\n",
      "7867    -0.124395  0.685773 -0.730812 -0.960124      -0.896909   \n",
      "1402     1.084093 -0.937283  1.077681  0.977466      -0.896909   \n",
      "8606     1.600541  0.303878 -0.007415 -0.960124       0.816929   \n",
      "8885     0.164816  0.590299 -0.369113 -0.136977       0.816929   \n",
      "6494     0.485013 -1.032757  0.715982 -0.960124       0.816929   \n",
      "...           ...       ...       ...       ...            ...   \n",
      "2563     1.972383 -1.128231 -0.007415 -0.960124       0.816929   \n",
      "1167    -1.074659 -0.364440  1.801078 -0.960124      -0.896909   \n",
      "1009    -0.021106  3.072621 -1.815908 -0.960124      -0.896909   \n",
      "1002     0.753566  0.017456 -1.454209 -0.923947       0.816929   \n",
      "694      1.486922  0.590299 -1.092511  0.143043      -0.896909   \n",
      "\n",
      "      EstimatedSalary  Geography    Gender  HasCrCard  IsActiveMember  \n",
      "7867         0.979151   1.507960 -1.103311   0.645055        0.968496  \n",
      "1402        -0.398475  -0.905741  0.906363   0.645055       -1.032529  \n",
      "8606        -0.441450   1.507960  0.906363   0.645055        0.968496  \n",
      "8885         1.013808   1.507960  0.906363   0.645055        0.968496  \n",
      "6494        -1.343231  -0.905741  0.906363   0.645055        0.968496  \n",
      "...               ...        ...       ...        ...             ...  \n",
      "2563        -0.567949  -0.905741 -1.103311   0.645055        0.968496  \n",
      "1167        -1.199750  -0.905741 -1.103311   0.645055        0.968496  \n",
      "1009         1.307009   1.507960  0.906363   0.645055        0.968496  \n",
      "1002         1.464353   0.301109  0.906363   0.645055        0.968496  \n",
      "694          0.423595  -0.905741 -1.103311   0.645055        0.968496  \n",
      "\n",
      "[2000 rows x 10 columns]\n"
     ]
    },
    {
     "name": "stderr",
     "output_type": "stream",
     "text": [
      "/tmp/ipykernel_31/1925296585.py:6: SettingWithCopyWarning: \n",
      "A value is trying to be set on a copy of a slice from a DataFrame.\n",
      "Try using .loc[row_indexer,col_indexer] = value instead\n",
      "\n",
      "See the caveats in the documentation: https://pandas.pydata.org/pandas-docs/stable/user_guide/indexing.html#returning-a-view-versus-a-copy\n",
      "  features_test[numeric] = scaler.transform(features_test[numeric])\n",
      "/opt/conda/envs/python3/lib/python3.9/site-packages/pandas/core/indexing.py:1637: SettingWithCopyWarning: \n",
      "A value is trying to be set on a copy of a slice from a DataFrame\n",
      "\n",
      "See the caveats in the documentation: https://pandas.pydata.org/pandas-docs/stable/user_guide/indexing.html#returning-a-view-versus-a-copy\n",
      "  self._setitem_single_block(indexer, value, name)\n",
      "/opt/conda/envs/python3/lib/python3.9/site-packages/pandas/core/indexing.py:692: SettingWithCopyWarning: \n",
      "A value is trying to be set on a copy of a slice from a DataFrame\n",
      "\n",
      "See the caveats in the documentation: https://pandas.pydata.org/pandas-docs/stable/user_guide/indexing.html#returning-a-view-versus-a-copy\n",
      "  iloc._setitem_with_indexer(indexer, value, self.name)\n"
     ]
    }
   ],
   "source": [
    "scaler = StandardScaler()\n",
    "numeric = ['CreditScore','Age','Tenure','Balance','NumOfProducts','EstimatedSalary','Geography','Gender','HasCrCard','IsActiveMember']\n",
    "scaler.fit(features_train[numeric])\n",
    "features_train[numeric] = scaler.transform(features_train[numeric])\n",
    "features_valid[numeric] = scaler.transform(features_valid[numeric])\n",
    "features_test[numeric] = scaler.transform(features_test[numeric])\n",
    "\n",
    "print(features_train[numeric])\n",
    "print(features_valid[numeric])\n",
    "print(features_test[numeric])"
   ]
  },
  {
   "cell_type": "markdown",
   "metadata": {},
   "source": [
    "## Training Model"
   ]
  },
  {
   "cell_type": "markdown",
   "metadata": {},
   "source": [
    "### Random Forest"
   ]
  },
  {
   "cell_type": "code",
   "execution_count": 30,
   "metadata": {},
   "outputs": [],
   "source": [
    "model_rfc = RandomForestClassifier(random_state=12345, max_depth=8, n_estimators=50)"
   ]
  },
  {
   "cell_type": "code",
   "execution_count": 31,
   "metadata": {},
   "outputs": [
    {
     "data": {
      "text/plain": [
       "RandomForestClassifier(max_depth=8, n_estimators=50, random_state=12345)"
      ]
     },
     "execution_count": 31,
     "metadata": {},
     "output_type": "execute_result"
    }
   ],
   "source": [
    "model_rfc.fit(features_train, target_train)"
   ]
  },
  {
   "cell_type": "code",
   "execution_count": 32,
   "metadata": {},
   "outputs": [],
   "source": [
    "predict_valid_rfc = model_rfc.predict(features_valid)"
   ]
  },
  {
   "cell_type": "code",
   "execution_count": 33,
   "metadata": {},
   "outputs": [
    {
     "data": {
      "text/plain": [
       "0.8615"
      ]
     },
     "execution_count": 33,
     "metadata": {},
     "output_type": "execute_result"
    }
   ],
   "source": [
    "accuracy_score(target_valid, predict_valid_rfc)"
   ]
  },
  {
   "cell_type": "markdown",
   "metadata": {},
   "source": [
    "### Decision Tree"
   ]
  },
  {
   "cell_type": "code",
   "execution_count": 34,
   "metadata": {},
   "outputs": [],
   "source": [
    "model_dt = DecisionTreeClassifier(random_state=12345, max_depth=8)"
   ]
  },
  {
   "cell_type": "code",
   "execution_count": 35,
   "metadata": {},
   "outputs": [
    {
     "data": {
      "text/plain": [
       "DecisionTreeClassifier(max_depth=8, random_state=12345)"
      ]
     },
     "execution_count": 35,
     "metadata": {},
     "output_type": "execute_result"
    }
   ],
   "source": [
    "model_dt.fit(features_train, target_train)"
   ]
  },
  {
   "cell_type": "code",
   "execution_count": 36,
   "metadata": {},
   "outputs": [],
   "source": [
    "predict_valid_dt = model_dt.predict(features_valid)"
   ]
  },
  {
   "cell_type": "code",
   "execution_count": 37,
   "metadata": {},
   "outputs": [
    {
     "data": {
      "text/plain": [
       "0.8485"
      ]
     },
     "execution_count": 37,
     "metadata": {},
     "output_type": "execute_result"
    }
   ],
   "source": [
    "accuracy_score(target_valid, predict_valid_dt)"
   ]
  },
  {
   "cell_type": "markdown",
   "metadata": {},
   "source": [
    "### Logistic Regression"
   ]
  },
  {
   "cell_type": "code",
   "execution_count": 38,
   "metadata": {},
   "outputs": [],
   "source": [
    "model_lr = LogisticRegression(random_state=12345, solver='liblinear')"
   ]
  },
  {
   "cell_type": "code",
   "execution_count": 39,
   "metadata": {},
   "outputs": [
    {
     "data": {
      "text/plain": [
       "LogisticRegression(random_state=12345, solver='liblinear')"
      ]
     },
     "execution_count": 39,
     "metadata": {},
     "output_type": "execute_result"
    }
   ],
   "source": [
    "model_lr.fit(features_valid, target_valid)"
   ]
  },
  {
   "cell_type": "code",
   "execution_count": 40,
   "metadata": {},
   "outputs": [],
   "source": [
    "predict_valid_lr = model_lr.predict(features_valid)"
   ]
  },
  {
   "cell_type": "code",
   "execution_count": 41,
   "metadata": {},
   "outputs": [
    {
     "data": {
      "text/plain": [
       "0.818"
      ]
     },
     "execution_count": 41,
     "metadata": {},
     "output_type": "execute_result"
    }
   ],
   "source": [
    "accuracy_score(target_valid, predict_valid_lr)"
   ]
  },
  {
   "cell_type": "markdown",
   "metadata": {},
   "source": [
    "## Class Checking \n",
    "### Sanity Check"
   ]
  },
  {
   "cell_type": "code",
   "execution_count": 42,
   "metadata": {},
   "outputs": [],
   "source": [
    "class_frequency = data_ordinal['Exited'].value_counts(normalize=True)"
   ]
  },
  {
   "cell_type": "code",
   "execution_count": 43,
   "metadata": {},
   "outputs": [
    {
     "data": {
      "text/plain": [
       "0.0    0.7963\n",
       "1.0    0.2037\n",
       "Name: Exited, dtype: float64"
      ]
     },
     "execution_count": 43,
     "metadata": {},
     "output_type": "execute_result"
    }
   ],
   "source": [
    "class_frequency"
   ]
  },
  {
   "cell_type": "code",
   "execution_count": 49,
   "metadata": {},
   "outputs": [
    {
     "data": {
      "text/plain": [
       "<AxesSubplot:title={'center':'Retained v Exited Customers'}, xlabel='Customer Retention', ylabel='Percentage'>"
      ]
     },
     "execution_count": 49,
     "metadata": {},
     "output_type": "execute_result"
    },
    {
     "data": {
      "image/png": "[encoded data removed]",
      "text/plain": [
       "<Figure size 640x480 with 1 Axes>"
      ]
     },
     "metadata": {},
     "output_type": "display_data"
    }
   ],
   "source": [
    "class_frequency.plot(kind='bar', title='Retained v Exited Customers', ylabel='Percentage', xlabel='Customer Retention')"
   ]
  },
  {
   "cell_type": "markdown",
   "metadata": {},
   "source": [
    "In our Retained v Exited customer's bar chart, we have two values 0 and 1. 0 value counts the amount of customers who are still existing clients. The 1 represents customers who have left the bank. The bank looks to retain about 80% of their clients."
   ]
  },
  {
   "cell_type": "markdown",
   "metadata": {},
   "source": [
    "#### Random Forest"
   ]
  },
  {
   "cell_type": "code",
   "execution_count": 50,
   "metadata": {},
   "outputs": [],
   "source": [
    "predict_valid_rfc = pd.Series(model_rfc.predict(features_valid))"
   ]
  },
  {
   "cell_type": "code",
   "execution_count": 51,
   "metadata": {},
   "outputs": [],
   "source": [
    "class_frequency1 = predict_valid_rfc.value_counts(normalize=True)"
   ]
  },
  {
   "cell_type": "code",
   "execution_count": 52,
   "metadata": {},
   "outputs": [
    {
     "data": {
      "text/plain": [
       "0.0    0.902\n",
       "1.0    0.098\n",
       "dtype: float64"
      ]
     },
     "execution_count": 52,
     "metadata": {},
     "output_type": "execute_result"
    }
   ],
   "source": [
    "class_frequency1"
   ]
  },
  {
   "cell_type": "markdown",
   "metadata": {},
   "source": [
    "#### Decision Tree"
   ]
  },
  {
   "cell_type": "code",
   "execution_count": 53,
   "metadata": {},
   "outputs": [],
   "source": [
    "predict_valid_dt = pd.Series(model_dt.predict(features_valid))"
   ]
  },
  {
   "cell_type": "code",
   "execution_count": 54,
   "metadata": {},
   "outputs": [],
   "source": [
    "class_frequency2 = predict_valid_dt.value_counts(normalize=True)"
   ]
  },
  {
   "cell_type": "code",
   "execution_count": 55,
   "metadata": {},
   "outputs": [
    {
     "data": {
      "text/plain": [
       "0.0    0.879\n",
       "1.0    0.121\n",
       "dtype: float64"
      ]
     },
     "execution_count": 55,
     "metadata": {},
     "output_type": "execute_result"
    }
   ],
   "source": [
    "class_frequency2"
   ]
  },
  {
   "cell_type": "markdown",
   "metadata": {},
   "source": [
    "#### Logistic Regression"
   ]
  },
  {
   "cell_type": "code",
   "execution_count": 56,
   "metadata": {},
   "outputs": [],
   "source": [
    "predict_valid_lr = pd.Series(model_lr.predict(features_valid))"
   ]
  },
  {
   "cell_type": "code",
   "execution_count": 57,
   "metadata": {},
   "outputs": [],
   "source": [
    "class_frequency3 = predict_valid_lr.value_counts(normalize=True)"
   ]
  },
  {
   "cell_type": "code",
   "execution_count": 58,
   "metadata": {},
   "outputs": [
    {
     "data": {
      "text/plain": [
       "0.0    0.9455\n",
       "1.0    0.0545\n",
       "dtype: float64"
      ]
     },
     "execution_count": 58,
     "metadata": {},
     "output_type": "execute_result"
    }
   ],
   "source": [
    "class_frequency3"
   ]
  },
  {
   "cell_type": "markdown",
   "metadata": {},
   "source": [
    "## Calculating Constant Prediciton Results"
   ]
  },
  {
   "cell_type": "code",
   "execution_count": 59,
   "metadata": {},
   "outputs": [],
   "source": [
    "target_pred_constant = pd.Series(0, index=target_valid.index)"
   ]
  },
  {
   "cell_type": "code",
   "execution_count": 60,
   "metadata": {},
   "outputs": [
    {
     "data": {
      "text/plain": [
       "0.8045"
      ]
     },
     "execution_count": 60,
     "metadata": {},
     "output_type": "execute_result"
    }
   ],
   "source": [
    "accuracy_score(target_valid, target_pred_constant)"
   ]
  },
  {
   "cell_type": "markdown",
   "metadata": {},
   "source": [
    "Conclusion: A sanity check is ran to verify if the model you've created has an accuracy that is close to the benchmark or baseline. From the experiment using the above models we can now draw some conclusions. \n",
    "\n",
    "Random Forest: The accuracy for this model was 0.902 for the 0 class. For the 1 class the accuracy was .098. This current model seems to struggle to predict the class 1 effectively. There is a need for a weight adjustment for this model. Considering the model has an overall accuracy of 86%, the difference in the model's predictions for class 0 is only 4%. \n",
    "\n",
    "Decision Tree: In this model, an accuracy rate of 85% is achieved for class 0. This accuracy rate is not significantly differently from the model's overall accuracy of 85%. The appearance of class 0 in the model's predictions is also 87%. It's possible that this model is experiencing underfitting. \n",
    "\n",
    "Logistic Regression: In this model, an accuracy rate of 94% is achieved for class 0. This accuracy is higher than the model's overall accuracy of 81%. This suggests that the model is only good at predicting class 0. "
   ]
  },
  {
   "cell_type": "markdown",
   "metadata": {},
   "source": [
    "## Checking for Imbalance Class"
   ]
  },
  {
   "cell_type": "markdown",
   "metadata": {},
   "source": [
    "### Confusion Matrix"
   ]
  },
  {
   "cell_type": "markdown",
   "metadata": {},
   "source": [
    "#### Random Forest"
   ]
  },
  {
   "cell_type": "code",
   "execution_count": 61,
   "metadata": {},
   "outputs": [
    {
     "data": {
      "text/plain": [
       "array([[1568,   41],\n",
       "       [ 236,  155]])"
      ]
     },
     "execution_count": 61,
     "metadata": {},
     "output_type": "execute_result"
    }
   ],
   "source": [
    "confusion_matrix(target_valid, predict_valid_rfc)"
   ]
  },
  {
   "cell_type": "markdown",
   "metadata": {},
   "source": [
    "#### Decision Tree "
   ]
  },
  {
   "cell_type": "code",
   "execution_count": 62,
   "metadata": {},
   "outputs": [
    {
     "data": {
      "text/plain": [
       "array([[1532,   77],\n",
       "       [ 226,  165]])"
      ]
     },
     "execution_count": 62,
     "metadata": {},
     "output_type": "execute_result"
    }
   ],
   "source": [
    "confusion_matrix(target_valid, predict_valid_dt)"
   ]
  },
  {
   "cell_type": "markdown",
   "metadata": {},
   "source": [
    "#### Logistic Regression"
   ]
  },
  {
   "cell_type": "code",
   "execution_count": 63,
   "metadata": {},
   "outputs": [
    {
     "data": {
      "text/plain": [
       "array([[1568,   41],\n",
       "       [ 323,   68]])"
      ]
     },
     "execution_count": 63,
     "metadata": {},
     "output_type": "execute_result"
    }
   ],
   "source": [
    "confusion_matrix(target_valid, predict_valid_lr)"
   ]
  },
  {
   "cell_type": "markdown",
   "metadata": {},
   "source": [
    "## Recall"
   ]
  },
  {
   "cell_type": "markdown",
   "metadata": {},
   "source": [
    "#### Random Forest"
   ]
  },
  {
   "cell_type": "code",
   "execution_count": 64,
   "metadata": {},
   "outputs": [
    {
     "data": {
      "text/plain": [
       "0.39641943734015345"
      ]
     },
     "execution_count": 64,
     "metadata": {},
     "output_type": "execute_result"
    }
   ],
   "source": [
    "recall_score(target_valid, predict_valid_rfc)"
   ]
  },
  {
   "cell_type": "markdown",
   "metadata": {},
   "source": [
    "#### Decision Tree"
   ]
  },
  {
   "cell_type": "code",
   "execution_count": 65,
   "metadata": {},
   "outputs": [
    {
     "data": {
      "text/plain": [
       "0.4219948849104859"
      ]
     },
     "execution_count": 65,
     "metadata": {},
     "output_type": "execute_result"
    }
   ],
   "source": [
    "recall_score(target_valid, predict_valid_dt)"
   ]
  },
  {
   "cell_type": "markdown",
   "metadata": {},
   "source": [
    "#### Logistic Regression "
   ]
  },
  {
   "cell_type": "code",
   "execution_count": 66,
   "metadata": {},
   "outputs": [
    {
     "data": {
      "text/plain": [
       "0.17391304347826086"
      ]
     },
     "execution_count": 66,
     "metadata": {},
     "output_type": "execute_result"
    }
   ],
   "source": [
    "recall_score(target_valid, predict_valid_lr)"
   ]
  },
  {
   "cell_type": "markdown",
   "metadata": {},
   "source": [
    "## Precision"
   ]
  },
  {
   "cell_type": "markdown",
   "metadata": {},
   "source": [
    "### Random Forest"
   ]
  },
  {
   "cell_type": "code",
   "execution_count": 67,
   "metadata": {},
   "outputs": [
    {
     "data": {
      "text/plain": [
       "0.7908163265306123"
      ]
     },
     "execution_count": 67,
     "metadata": {},
     "output_type": "execute_result"
    }
   ],
   "source": [
    "precision_score(target_valid, predict_valid_rfc)"
   ]
  },
  {
   "cell_type": "markdown",
   "metadata": {},
   "source": [
    "### Decision Tree"
   ]
  },
  {
   "cell_type": "code",
   "execution_count": 68,
   "metadata": {},
   "outputs": [
    {
     "data": {
      "text/plain": [
       "0.6818181818181818"
      ]
     },
     "execution_count": 68,
     "metadata": {},
     "output_type": "execute_result"
    }
   ],
   "source": [
    "precision_score(target_valid, predict_valid_dt)"
   ]
  },
  {
   "cell_type": "markdown",
   "metadata": {},
   "source": [
    "### Logistic Regression"
   ]
  },
  {
   "cell_type": "code",
   "execution_count": 69,
   "metadata": {},
   "outputs": [
    {
     "data": {
      "text/plain": [
       "0.6238532110091743"
      ]
     },
     "execution_count": 69,
     "metadata": {},
     "output_type": "execute_result"
    }
   ],
   "source": [
    "precision_score(target_valid, predict_valid_lr)"
   ]
  },
  {
   "cell_type": "markdown",
   "metadata": {},
   "source": [
    "## F1 Score"
   ]
  },
  {
   "cell_type": "markdown",
   "metadata": {},
   "source": [
    "### Random Forest"
   ]
  },
  {
   "cell_type": "code",
   "execution_count": 70,
   "metadata": {},
   "outputs": [
    {
     "data": {
      "text/plain": [
       "0.5281090289608177"
      ]
     },
     "execution_count": 70,
     "metadata": {},
     "output_type": "execute_result"
    }
   ],
   "source": [
    "f1_score(target_valid, predict_valid_rfc)"
   ]
  },
  {
   "cell_type": "markdown",
   "metadata": {},
   "source": [
    "### Decision Tree"
   ]
  },
  {
   "cell_type": "code",
   "execution_count": 71,
   "metadata": {},
   "outputs": [
    {
     "data": {
      "text/plain": [
       "0.5213270142180094"
      ]
     },
     "execution_count": 71,
     "metadata": {},
     "output_type": "execute_result"
    }
   ],
   "source": [
    "f1_score(target_valid, predict_valid_dt)"
   ]
  },
  {
   "cell_type": "markdown",
   "metadata": {},
   "source": [
    "### Logistic Regression"
   ]
  },
  {
   "cell_type": "code",
   "execution_count": 72,
   "metadata": {},
   "outputs": [
    {
     "data": {
      "text/plain": [
       "0.272"
      ]
     },
     "execution_count": 72,
     "metadata": {},
     "output_type": "execute_result"
    }
   ],
   "source": [
    "f1_score(target_valid, predict_valid_lr)"
   ]
  },
  {
   "cell_type": "markdown",
   "metadata": {},
   "source": [
    "Random Forest:\n",
    "- The confusion matrix values indicate that the most frequent value is the True Negative. This suggests that the trained model tends to predict negative values more often.\n",
    "- The Recall value is close to 0, which means our model is not good at identifying True Positives. This needs improvement. \n",
    "- The Precision value here is close to 1. This shows that our model is good at identifying negative values.\n",
    "- The F1 score using validation data is .52, which is lower than the defined threshold.\n",
    "\n",
    "Decision Tree:\n",
    "- The confusion matrix values indicate that the most frequent occuring value is True Negative. This indicates that the trained model often predicts negative values.\n",
    "- The obtained recall value is .42. The precision value is .68.\n",
    "- The F1 score is .52. Below the threshold.\n",
    "\n",
    "Logistic Regression:\n",
    "- The confusion matrix indicates that the most frequent occuring value is True Negative. This suggests that the trained model tends to predict negative values more.\n",
    "- The Recall value is .17. The precision value was .62.\n",
    "- The F1 score is .27. Below our threshold.\n",
    "\n",
    "Conclusion:\n",
    "\n",
    "The models' performance falls far short of the given threshold. Each have low precision, recall and F1 scores. With the high imbalance between recall and precision, we will need to give each model significant improvements. "
   ]
  },
  {
   "cell_type": "markdown",
   "metadata": {},
   "source": [
    "## Improving Model Quality"
   ]
  },
  {
   "cell_type": "markdown",
   "metadata": {},
   "source": [
    "### Upsampling & Downsampling Functions"
   ]
  },
  {
   "cell_type": "code",
   "execution_count": 73,
   "metadata": {},
   "outputs": [],
   "source": [
    "def upsample(features, target, repeat):\n",
    "    features_zeros = features[target==0]\n",
    "    features_ones = features[target==1]\n",
    "    target_zeros = target[target==0]\n",
    "    target_ones = target[target==1]\n",
    "    features_upsampled = pd.concat([features_zeros] + [features_ones] * repeat)\n",
    "    target_upsampled = pd.concat([target_zeros] + [target_ones] * repeat)\n",
    "    features_upsampled, target_upsampled = shuffle(features_upsampled, target_upsampled, random_state=12345)\n",
    "    return features_upsampled, target_upsampled"
   ]
  },
  {
   "cell_type": "code",
   "execution_count": 74,
   "metadata": {},
   "outputs": [],
   "source": [
    "def downsample(features,target,fraction):\n",
    "    feature_one = features[target == 1]\n",
    "    feature_zero = features[target == 0]\n",
    "    target_one = target[target == 1]\n",
    "    target_zero = target[target == 0]\n",
    "    \n",
    "    features_downsampled = pd.concat([feature_zero.sample(frac=fraction, random_state=12345)] + [feature_one])\n",
    "    target_downsampled = pd.concat([target_zero.sample(frac=fraction,random_state=12345)] + [target_one])\n",
    "    \n",
    "    features_downsampled, target_downsampled = shuffle(features_downsampled,target_downsampled,random_state=12345)\n",
    "    \n",
    "    return features_downsampled, target_downsampled\n",
    "\n",
    "features_downsampled, target_downsampled = downsample(features_train,target_train,.1)"
   ]
  },
  {
   "cell_type": "markdown",
   "metadata": {},
   "source": [
    "### Random Forest Upsample"
   ]
  },
  {
   "cell_type": "code",
   "execution_count": 75,
   "metadata": {},
   "outputs": [],
   "source": [
    "features_upsampled, target_upsampled = upsample(features_train, target_train, 5)"
   ]
  },
  {
   "cell_type": "code",
   "execution_count": 76,
   "metadata": {},
   "outputs": [
    {
     "data": {
      "text/plain": [
       "RandomForestClassifier(max_depth=8, n_estimators=50, random_state=12345)"
      ]
     },
     "execution_count": 76,
     "metadata": {},
     "output_type": "execute_result"
    }
   ],
   "source": [
    "model_rfc.fit(features_upsampled, target_upsampled)"
   ]
  },
  {
   "cell_type": "code",
   "execution_count": 77,
   "metadata": {},
   "outputs": [],
   "source": [
    "new_predict_valid_rfc1 = model_rfc.predict(features_valid)"
   ]
  },
  {
   "cell_type": "code",
   "execution_count": 78,
   "metadata": {},
   "outputs": [
    {
     "data": {
      "text/plain": [
       "0.5748502994011976"
      ]
     },
     "execution_count": 78,
     "metadata": {},
     "output_type": "execute_result"
    }
   ],
   "source": [
    "f1_score(target_valid, new_predict_valid_rfc1)"
   ]
  },
  {
   "cell_type": "markdown",
   "metadata": {},
   "source": [
    "### Random Forest Downsample"
   ]
  },
  {
   "cell_type": "code",
   "execution_count": 79,
   "metadata": {},
   "outputs": [
    {
     "name": "stdout",
     "output_type": "stream",
     "text": [
      "F1: 0.4447204968944099\n"
     ]
    }
   ],
   "source": [
    "model_rfc = RandomForestClassifier(random_state=12345,n_estimators=30,max_depth=7)\n",
    "model_rfc.fit(features_downsampled, target_downsampled)\n",
    "predicted_valid = model_rfc.predict(features_valid)\n",
    "\n",
    "print('F1:', f1_score(target_valid, predicted_valid))"
   ]
  },
  {
   "cell_type": "markdown",
   "metadata": {},
   "source": [
    "### Decision Tree Upsample"
   ]
  },
  {
   "cell_type": "code",
   "execution_count": 80,
   "metadata": {},
   "outputs": [
    {
     "data": {
      "text/plain": [
       "DecisionTreeClassifier(max_depth=8, random_state=12345)"
      ]
     },
     "execution_count": 80,
     "metadata": {},
     "output_type": "execute_result"
    }
   ],
   "source": [
    "model_dt.fit(features_upsampled, target_upsampled)"
   ]
  },
  {
   "cell_type": "code",
   "execution_count": 81,
   "metadata": {},
   "outputs": [],
   "source": [
    "new_predict_valid_dt1 = model_dt.predict(features_valid)"
   ]
  },
  {
   "cell_type": "code",
   "execution_count": 82,
   "metadata": {},
   "outputs": [
    {
     "data": {
      "text/plain": [
       "0.5366795366795367"
      ]
     },
     "execution_count": 82,
     "metadata": {},
     "output_type": "execute_result"
    }
   ],
   "source": [
    "f1_score(target_valid, new_predict_valid_dt1)"
   ]
  },
  {
   "cell_type": "markdown",
   "metadata": {},
   "source": [
    "### Decision Tree Downsample"
   ]
  },
  {
   "cell_type": "code",
   "execution_count": 83,
   "metadata": {},
   "outputs": [
    {
     "name": "stdout",
     "output_type": "stream",
     "text": [
      "F1: 0.4555808656036447\n"
     ]
    }
   ],
   "source": [
    "model_dt = DecisionTreeClassifier(random_state=12345,max_depth=7)\n",
    "model_dt.fit(features_downsampled, target_downsampled)\n",
    "predicted_valid = model_dt.predict(features_valid)\n",
    "\n",
    "print('F1:', f1_score(target_valid, predicted_valid))"
   ]
  },
  {
   "cell_type": "markdown",
   "metadata": {},
   "source": [
    "### Logistic Regression Upsample"
   ]
  },
  {
   "cell_type": "code",
   "execution_count": 84,
   "metadata": {},
   "outputs": [
    {
     "data": {
      "text/plain": [
       "LogisticRegression(random_state=12345, solver='liblinear')"
      ]
     },
     "execution_count": 84,
     "metadata": {},
     "output_type": "execute_result"
    }
   ],
   "source": [
    "model_lr.fit(features_upsampled, target_upsampled)"
   ]
  },
  {
   "cell_type": "code",
   "execution_count": 85,
   "metadata": {},
   "outputs": [],
   "source": [
    "new_predict_valid_lr1 = model_lr.predict(features_valid)"
   ]
  },
  {
   "cell_type": "code",
   "execution_count": 86,
   "metadata": {},
   "outputs": [
    {
     "data": {
      "text/plain": [
       "0.4547528517110266"
      ]
     },
     "execution_count": 86,
     "metadata": {},
     "output_type": "execute_result"
    }
   ],
   "source": [
    "f1_score(target_valid, new_predict_valid_lr1)"
   ]
  },
  {
   "cell_type": "markdown",
   "metadata": {},
   "source": [
    "### Logistic Regression Downsample"
   ]
  },
  {
   "cell_type": "code",
   "execution_count": 87,
   "metadata": {},
   "outputs": [
    {
     "name": "stdout",
     "output_type": "stream",
     "text": [
      "F1: 0.39479392624728854\n"
     ]
    }
   ],
   "source": [
    "model_lr = LogisticRegression(random_state=12345,solver='liblinear')\n",
    "model_lr.fit(features_downsampled, target_downsampled)\n",
    "predicted_valid = model_lr.predict(features_valid)\n",
    "\n",
    "print('F1:', f1_score(target_valid, predicted_valid))\n"
   ]
  },
  {
   "cell_type": "markdown",
   "metadata": {},
   "source": [
    "## Class Weight Adjustment"
   ]
  },
  {
   "cell_type": "markdown",
   "metadata": {},
   "source": [
    "### Random Forest"
   ]
  },
  {
   "cell_type": "code",
   "execution_count": 93,
   "metadata": {},
   "outputs": [],
   "source": [
    "# Increase weight\n",
    "new_model_rf = RandomForestClassifier(random_state=12345, max_depth=10, n_estimators=50, class_weight='balanced')"
   ]
  },
  {
   "cell_type": "code",
   "execution_count": 94,
   "metadata": {},
   "outputs": [
    {
     "data": {
      "text/plain": [
       "RandomForestClassifier(class_weight='balanced', max_depth=10, n_estimators=50,\n",
       "                       random_state=12345)"
      ]
     },
     "execution_count": 94,
     "metadata": {},
     "output_type": "execute_result"
    }
   ],
   "source": [
    "new_model_rf.fit(features_train, target_train)"
   ]
  },
  {
   "cell_type": "code",
   "execution_count": 95,
   "metadata": {},
   "outputs": [],
   "source": [
    "new_predict_valid_rf = new_model_rf.predict(features_valid)"
   ]
  },
  {
   "cell_type": "code",
   "execution_count": 96,
   "metadata": {},
   "outputs": [
    {
     "data": {
      "text/plain": [
       "0.5899094437257439"
      ]
     },
     "execution_count": 96,
     "metadata": {},
     "output_type": "execute_result"
    }
   ],
   "source": [
    "f1_score(target_valid, new_predict_valid_rf)"
   ]
  },
  {
   "cell_type": "markdown",
   "metadata": {},
   "source": [
    "### Decision Tree"
   ]
  },
  {
   "cell_type": "code",
   "execution_count": 97,
   "metadata": {},
   "outputs": [],
   "source": [
    "new_model_dt = DecisionTreeClassifier(random_state=12345, max_depth=6, class_weight='balanced')"
   ]
  },
  {
   "cell_type": "code",
   "execution_count": 98,
   "metadata": {},
   "outputs": [
    {
     "data": {
      "text/plain": [
       "DecisionTreeClassifier(class_weight='balanced', max_depth=6, random_state=12345)"
      ]
     },
     "execution_count": 98,
     "metadata": {},
     "output_type": "execute_result"
    }
   ],
   "source": [
    "new_model_dt.fit(features_train, target_train)"
   ]
  },
  {
   "cell_type": "code",
   "execution_count": 99,
   "metadata": {},
   "outputs": [],
   "source": [
    "new_predict_valid_dt = new_model_dt.predict(features_valid)"
   ]
  },
  {
   "cell_type": "code",
   "execution_count": 100,
   "metadata": {},
   "outputs": [
    {
     "data": {
      "text/plain": [
       "0.5622932745314222"
      ]
     },
     "execution_count": 100,
     "metadata": {},
     "output_type": "execute_result"
    }
   ],
   "source": [
    "f1_score(target_valid, new_predict_valid_dt)"
   ]
  },
  {
   "cell_type": "markdown",
   "metadata": {},
   "source": [
    "### Logistic Regression"
   ]
  },
  {
   "cell_type": "code",
   "execution_count": 101,
   "metadata": {},
   "outputs": [],
   "source": [
    "new_model_lr = LogisticRegression(random_state=12345, solver='liblinear', class_weight='balanced')"
   ]
  },
  {
   "cell_type": "code",
   "execution_count": 102,
   "metadata": {},
   "outputs": [
    {
     "data": {
      "text/plain": [
       "LogisticRegression(class_weight='balanced', random_state=12345,\n",
       "                   solver='liblinear')"
      ]
     },
     "execution_count": 102,
     "metadata": {},
     "output_type": "execute_result"
    }
   ],
   "source": [
    "new_model_lr.fit(features_train, target_train)"
   ]
  },
  {
   "cell_type": "code",
   "execution_count": 103,
   "metadata": {},
   "outputs": [],
   "source": [
    "new_predict_valid_lr = new_model_lr.predict(features_valid)"
   ]
  },
  {
   "cell_type": "code",
   "execution_count": 104,
   "metadata": {},
   "outputs": [
    {
     "data": {
      "text/plain": [
       "0.4648742411101475"
      ]
     },
     "execution_count": 104,
     "metadata": {},
     "output_type": "execute_result"
    }
   ],
   "source": [
    "f1_score(target_valid, new_predict_valid_lr)"
   ]
  },
  {
   "cell_type": "markdown",
   "metadata": {},
   "source": [
    "Conclusion: \n",
    "- Based on the calculations above, the model has improved. We added the upsample method and class weight adjustments to all models. Upsampling is chosen to help the model better recognize positive values since the confusion matrix results indicate that the model is more familiar with negative class than the positive. \n",
    "\n",
    "- Class weight adjustment is done to give more weight to the rarely occuring class compared to the frequently occuring class.\n",
    "\n",
    "- Random Forest was almost able to reach the required threshold. The F1 score reached 57.4% and with the class adjusment added it reached 58.9%. Downsampling decreased the F1 score to 44%.\n",
    "\n",
    "- The Decision Tree could not reach the required threshold. The upsampling method got an F1 score of 53%. Downsampling got the F1 score to 45%. The weight class adjustment raised the percentage to 56%.\n",
    "\n",
    "- The Logistic Regression is also unable to reach our threshold. The upsampling method got the F1 score up to 45%, downsampling F1 score was 49% and the weight class adjustment made the F1 score 46%."
   ]
  },
  {
   "cell_type": "markdown",
   "metadata": {},
   "source": [
    "### ROC & AUC-ROC"
   ]
  },
  {
   "cell_type": "markdown",
   "metadata": {},
   "source": [
    "#### Random Forest"
   ]
  },
  {
   "cell_type": "code",
   "execution_count": 93,
   "metadata": {},
   "outputs": [],
   "source": [
    "prob_valid_rfc = new_model_rf.predict_proba(features_valid)"
   ]
  },
  {
   "cell_type": "code",
   "execution_count": 94,
   "metadata": {},
   "outputs": [],
   "source": [
    "prob_one_valid_rfc = prob_valid_rfc[:,1]"
   ]
  },
  {
   "cell_type": "code",
   "execution_count": 95,
   "metadata": {},
   "outputs": [
    {
     "data": {
      "text/plain": [
       "array([0.29274084, 0.8663207 , 0.06399526, 0.82535779, 0.88577921,\n",
       "       0.08741055, 0.09979429, 0.19924019, 0.37896854, 0.2492111 ])"
      ]
     },
     "execution_count": 95,
     "metadata": {},
     "output_type": "execute_result"
    }
   ],
   "source": [
    "prob_one_valid_rfc[:10]"
   ]
  },
  {
   "cell_type": "code",
   "execution_count": 96,
   "metadata": {},
   "outputs": [],
   "source": [
    "fpr_rfc, tpr_rfc, thresholds_rfc = roc_curve(target_valid, prob_one_valid_rfc)"
   ]
  },
  {
   "cell_type": "code",
   "execution_count": 97,
   "metadata": {},
   "outputs": [
    {
     "data": {
      "image/png": "[encoded data removed]",
      "text/plain": [
       "<Figure size 640x480 with 1 Axes>"
      ]
     },
     "metadata": {},
     "output_type": "display_data"
    }
   ],
   "source": [
    "plt.figure()\n",
    "plt.plot(fpr_rfc, tpr_rfc)\n",
    "plt.plot([0,1],[0,1], linestyle='--')\n",
    "plt.xlim([0.0, 1.0])\n",
    "plt.ylim([0.0, 1.0])\n",
    "plt.xlabel('False Positive Rate')\n",
    "plt.ylabel('True Positive Rate')\n",
    "plt.title('Random Forest ROC')\n",
    "plt.show()"
   ]
  },
  {
   "cell_type": "code",
   "execution_count": 98,
   "metadata": {},
   "outputs": [],
   "source": [
    "auc_roc_rfc = roc_auc_score(target_valid, prob_one_valid_rfc)"
   ]
  },
  {
   "cell_type": "code",
   "execution_count": 99,
   "metadata": {},
   "outputs": [
    {
     "data": {
      "text/plain": [
       "0.8456079056585479"
      ]
     },
     "execution_count": 99,
     "metadata": {},
     "output_type": "execute_result"
    }
   ],
   "source": [
    "auc_roc_rfc"
   ]
  },
  {
   "cell_type": "markdown",
   "metadata": {},
   "source": [
    "### Decision Tree"
   ]
  },
  {
   "cell_type": "code",
   "execution_count": 100,
   "metadata": {},
   "outputs": [],
   "source": [
    "prob_valid_dt = new_model_dt.predict_proba(features_valid)"
   ]
  },
  {
   "cell_type": "code",
   "execution_count": 101,
   "metadata": {},
   "outputs": [],
   "source": [
    "prob_one_valid_dt = prob_valid_dt[:, 1]"
   ]
  },
  {
   "cell_type": "code",
   "execution_count": 102,
   "metadata": {},
   "outputs": [],
   "source": [
    "fpr_dt, tpr_dt, thresholds_dt = roc_curve(target_valid, prob_one_valid_dt)"
   ]
  },
  {
   "cell_type": "code",
   "execution_count": 103,
   "metadata": {},
   "outputs": [
    {
     "data": {
      "image/png": "[encoded data removed]",
      "text/plain": [
       "<Figure size 640x480 with 1 Axes>"
      ]
     },
     "metadata": {},
     "output_type": "display_data"
    }
   ],
   "source": [
    "plt.figure()\n",
    "plt.plot(fpr_dt, tpr_dt)\n",
    "plt.plot([0,1],[0,1], linestyle='--')\n",
    "plt.xlim([0.0, 1.0])\n",
    "plt.ylim([0.0, 1.0])\n",
    "plt.xlabel('False Positive Rate')\n",
    "plt.ylabel('True Positive Rate')\n",
    "plt.title('Decision Tree ROC')\n",
    "plt.show()"
   ]
  },
  {
   "cell_type": "code",
   "execution_count": 104,
   "metadata": {},
   "outputs": [],
   "source": [
    "auc_roc_dt = roc_auc_score(target_valid, prob_one_valid_dt)"
   ]
  },
  {
   "cell_type": "code",
   "execution_count": 105,
   "metadata": {},
   "outputs": [
    {
     "data": {
      "text/plain": [
       "0.8125473876961274"
      ]
     },
     "execution_count": 105,
     "metadata": {},
     "output_type": "execute_result"
    }
   ],
   "source": [
    "auc_roc_dt"
   ]
  },
  {
   "cell_type": "markdown",
   "metadata": {},
   "source": [
    "### Logisitic Regression"
   ]
  },
  {
   "cell_type": "code",
   "execution_count": 106,
   "metadata": {},
   "outputs": [],
   "source": [
    "prob_valid_lr = new_model_lr.predict_proba(features_valid)"
   ]
  },
  {
   "cell_type": "code",
   "execution_count": 107,
   "metadata": {},
   "outputs": [],
   "source": [
    "prob_one_valid_lr = prob_valid_lr[:,1]"
   ]
  },
  {
   "cell_type": "code",
   "execution_count": 108,
   "metadata": {},
   "outputs": [],
   "source": [
    "fpr_lr, tpr_lr, thresholds_lr = roc_curve(target_valid, prob_one_valid_lr)"
   ]
  },
  {
   "cell_type": "code",
   "execution_count": 109,
   "metadata": {},
   "outputs": [
    {
     "data": {
      "image/png": "[encoded data removed]",
      "text/plain": [
       "<Figure size 640x480 with 1 Axes>"
      ]
     },
     "metadata": {},
     "output_type": "display_data"
    }
   ],
   "source": [
    "plt.figure()\n",
    "plt.plot(fpr_lr, tpr_lr)\n",
    "plt.plot([0, 1], [0, 1], linestyle='--')\n",
    "plt.xlim([0.0, 1.0])\n",
    "plt.ylim([0.0, 1.0])\n",
    "plt.xlabel('False Positive Rate')\n",
    "plt.ylabel('True Positive Rate')\n",
    "plt.title('Logistic Regression ROC')\n",
    "plt.show()"
   ]
  },
  {
   "cell_type": "code",
   "execution_count": 110,
   "metadata": {},
   "outputs": [],
   "source": [
    "auc_roc_lr = roc_auc_score(target_valid, prob_one_valid_lr)"
   ]
  },
  {
   "cell_type": "code",
   "execution_count": 111,
   "metadata": {},
   "outputs": [
    {
     "data": {
      "text/plain": [
       "0.7597163652663487"
      ]
     },
     "execution_count": 111,
     "metadata": {},
     "output_type": "execute_result"
    }
   ],
   "source": [
    "auc_roc_lr"
   ]
  },
  {
   "cell_type": "markdown",
   "metadata": {},
   "source": [
    "Conclusion:\n",
    "\n",
    "- Based on our plots, the model with the best performace is our Random Forest Classifier.\n",
    "- The model with the lowest performace is the Logistic Regression.\n",
    "- The AUC-ROC values: Random Forest = 85%, Decision Tree = 83%, Logistic Regression = 75%."
   ]
  },
  {
   "cell_type": "markdown",
   "metadata": {},
   "source": [
    "## Final Model Test"
   ]
  },
  {
   "cell_type": "code",
   "execution_count": 114,
   "metadata": {},
   "outputs": [
    {
     "name": "stdout",
     "output_type": "stream",
     "text": [
      "Accuracy: 0.787\n",
      "F1: 0.6077348066298343\n",
      "AUC-ROC: 0.7818396208858206\n"
     ]
    }
   ],
   "source": [
    "model = RandomForestClassifier(random_state=12345,n_estimators=50,max_depth=8)\n",
    "model.fit(features_upsampled, target_upsampled)\n",
    "predicted_test = model.predict(features_test)\n",
    "print('Accuracy:', accuracy_score(target_test,predicted_test))\n",
    "print('F1:', f1_score(target_test, predicted_test))\n",
    "print('AUC-ROC:', roc_auc_score(target_test,predicted_test))"
   ]
  },
  {
   "cell_type": "markdown",
   "metadata": {},
   "source": [
    "## Conclusion"
   ]
  },
  {
   "cell_type": "markdown",
   "metadata": {},
   "source": [
    "For this project we completed the following:\n",
    "\n",
    "   Data Preperation:\n",
    "   - Handled missing values in the `Tenure` column.\n",
    "   - Looked at distribution of quantitative columns.\n",
    "\n",
    "    \n",
    "   Model Creation:\n",
    "   - Encoding completed since strings were present in our features\n",
    "   - Split the data into features and target. Our target column was the `Exited` column since we were identifying customers who left.\n",
    "   - After transforming the features we continued onto scaling them to standardize them.\n",
    "   \n",
    "   Model Training:\n",
    "   - Random Forest: \n",
    "       Had an accuracy of 86% before adding adjustments.\n",
    "       F1 score was 52% before adjustments. 58.9% after.\n",
    "       AUC-ROC value was 85%.\n",
    "       \n",
    "  - Decision Tree:\n",
    "      Received the accuracy rate of 84%.\n",
    "      The F1 score before adjustments was 52%. After upsmapling, 53%. With weight class adjustments, 56%.\n",
    "      The AUC-ROC value is 81%.\n",
    "      \n",
    "  - Logistic Regression:\n",
    "      81% Accuracy rate.\n",
    "      F1 score of 27%, very low.\n",
    "      The AUC-ROC value is 75%. Comparing this to the value of the other models, this will most likely not be the preferred model.\n",
    "      \n",
    "      \n",
    "   Final Model Test:\n",
    "   - The Random Forest had our highest F1 score so we used this model for our final model test.\n",
    "   - F1 score: 60%\n",
    "   - Accuracy: 78%\n",
    "   - AUC-ROC: 78%\n",
    "      \n",
    "      \n",
    "Conclusion:\n",
    "\n",
    "The Random Forest model seems to be the best in predicting whether customers stay or not with Beta Bank. This most creates a significan number of True Negatives (0), this shows that many customers are likely to stay. This was most likely because of the number of products used and the activity level of the customers at the bank.\n",
    "      "
   ]
  }
 ],
 "metadata": {
  "ExecuteTimeLog": [
   {
    "duration": 437,
    "start_time": "2024-06-27T16:09:57.155Z"
   },
   {
    "duration": 48,
    "start_time": "2024-06-27T16:10:34.457Z"
   },
   {
    "duration": 4,
    "start_time": "2024-06-27T16:11:19.783Z"
   },
   {
    "duration": 35,
    "start_time": "2024-06-27T16:16:32.327Z"
   },
   {
    "duration": 34,
    "start_time": "2024-06-27T16:16:57.286Z"
   },
   {
    "duration": 16,
    "start_time": "2024-06-27T16:17:25.850Z"
   },
   {
    "duration": 14,
    "start_time": "2024-06-27T16:17:31.027Z"
   },
   {
    "duration": 26,
    "start_time": "2024-06-27T16:17:47.643Z"
   },
   {
    "duration": 10,
    "start_time": "2024-06-27T16:17:57.773Z"
   },
   {
    "duration": 1137,
    "start_time": "2024-06-27T16:20:23.416Z"
   },
   {
    "duration": 83,
    "start_time": "2024-06-27T16:20:34.596Z"
   },
   {
    "duration": 72,
    "start_time": "2024-06-27T16:20:44.669Z"
   },
   {
    "duration": 7,
    "start_time": "2024-06-27T16:26:01.669Z"
   },
   {
    "duration": 5,
    "start_time": "2024-06-27T16:26:46.365Z"
   },
   {
    "duration": 6,
    "start_time": "2024-06-27T16:26:59.810Z"
   },
   {
    "duration": 26,
    "start_time": "2024-06-27T16:43:11.672Z"
   },
   {
    "duration": 721,
    "start_time": "2024-06-27T16:43:34.933Z"
   },
   {
    "duration": 37,
    "start_time": "2024-06-27T16:43:39.251Z"
   },
   {
    "duration": 29,
    "start_time": "2024-06-27T16:43:40.033Z"
   },
   {
    "duration": 14,
    "start_time": "2024-06-27T16:43:41.078Z"
   },
   {
    "duration": 14,
    "start_time": "2024-06-27T16:43:41.728Z"
   },
   {
    "duration": 6,
    "start_time": "2024-06-27T16:43:42.434Z"
   },
   {
    "duration": 80,
    "start_time": "2024-06-27T16:43:43.303Z"
   },
   {
    "duration": 4,
    "start_time": "2024-06-27T16:44:18.882Z"
   },
   {
    "duration": 35,
    "start_time": "2024-06-27T16:44:18.893Z"
   },
   {
    "duration": 28,
    "start_time": "2024-06-27T16:44:18.932Z"
   },
   {
    "duration": 14,
    "start_time": "2024-06-27T16:44:18.963Z"
   },
   {
    "duration": 10,
    "start_time": "2024-06-27T16:44:18.980Z"
   },
   {
    "duration": 7,
    "start_time": "2024-06-27T16:44:19.024Z"
   },
   {
    "duration": 764,
    "start_time": "2024-06-27T16:44:19.034Z"
   },
   {
    "duration": 34,
    "start_time": "2024-06-27T16:44:40.837Z"
   },
   {
    "duration": 13,
    "start_time": "2024-06-27T16:45:08.394Z"
   },
   {
    "duration": 23,
    "start_time": "2024-06-27T16:46:31.585Z"
   },
   {
    "duration": 6,
    "start_time": "2024-06-27T16:46:41.890Z"
   },
   {
    "duration": 4,
    "start_time": "2024-06-27T17:01:34.017Z"
   },
   {
    "duration": 35,
    "start_time": "2024-06-27T17:01:34.673Z"
   },
   {
    "duration": 28,
    "start_time": "2024-06-27T17:01:35.162Z"
   },
   {
    "duration": 5,
    "start_time": "2024-06-27T17:01:35.695Z"
   },
   {
    "duration": 15,
    "start_time": "2024-06-27T17:01:36.302Z"
   },
   {
    "duration": 14,
    "start_time": "2024-06-27T17:01:36.877Z"
   },
   {
    "duration": 9,
    "start_time": "2024-06-27T17:01:38.291Z"
   },
   {
    "duration": 5,
    "start_time": "2024-06-27T17:02:17.370Z"
   },
   {
    "duration": 17,
    "start_time": "2024-06-27T17:02:29.647Z"
   },
   {
    "duration": 78,
    "start_time": "2024-06-27T17:06:58.808Z"
   },
   {
    "duration": 7,
    "start_time": "2024-06-27T17:07:07.063Z"
   },
   {
    "duration": 5,
    "start_time": "2024-06-27T17:10:59.270Z"
   },
   {
    "duration": 22,
    "start_time": "2024-06-27T17:11:11.926Z"
   },
   {
    "duration": 9,
    "start_time": "2024-06-27T17:12:18.549Z"
   },
   {
    "duration": 4139,
    "start_time": "2024-06-27T17:12:26.025Z"
   },
   {
    "duration": 37,
    "start_time": "2024-06-27T17:12:30.168Z"
   },
   {
    "duration": 43,
    "start_time": "2024-06-27T17:12:30.208Z"
   },
   {
    "duration": 5,
    "start_time": "2024-06-27T17:12:30.256Z"
   },
   {
    "duration": 22,
    "start_time": "2024-06-27T17:12:30.365Z"
   },
   {
    "duration": 13,
    "start_time": "2024-06-27T17:12:30.641Z"
   },
   {
    "duration": 12,
    "start_time": "2024-06-27T17:12:31.066Z"
   },
   {
    "duration": 5,
    "start_time": "2024-06-27T17:12:32.442Z"
   },
   {
    "duration": 15,
    "start_time": "2024-06-27T17:12:32.726Z"
   },
   {
    "duration": 7,
    "start_time": "2024-06-27T17:12:34.227Z"
   },
   {
    "duration": 5,
    "start_time": "2024-06-27T17:12:34.781Z"
   },
   {
    "duration": 3,
    "start_time": "2024-06-27T17:12:35.795Z"
   },
   {
    "duration": 64,
    "start_time": "2024-06-27T17:12:38.218Z"
   },
   {
    "duration": 32,
    "start_time": "2024-06-27T17:12:46.578Z"
   },
   {
    "duration": 23,
    "start_time": "2024-06-27T17:13:20.998Z"
   },
   {
    "duration": 5,
    "start_time": "2024-06-27T17:33:19.308Z"
   },
   {
    "duration": 9,
    "start_time": "2024-06-27T17:34:00.732Z"
   },
   {
    "duration": 5,
    "start_time": "2024-06-27T17:34:38.853Z"
   },
   {
    "duration": 81,
    "start_time": "2024-06-27T17:34:50.722Z"
   },
   {
    "duration": 69,
    "start_time": "2024-06-27T17:34:53.755Z"
   },
   {
    "duration": 6,
    "start_time": "2024-06-27T17:35:36.579Z"
   },
   {
    "duration": 86,
    "start_time": "2024-06-27T17:35:37.341Z"
   },
   {
    "duration": 68,
    "start_time": "2024-06-27T17:37:36.514Z"
   },
   {
    "duration": 70,
    "start_time": "2024-06-27T17:38:01.718Z"
   },
   {
    "duration": 10,
    "start_time": "2024-06-27T17:38:10.702Z"
   },
   {
    "duration": 7,
    "start_time": "2024-06-27T17:39:41.569Z"
   },
   {
    "duration": 5,
    "start_time": "2024-06-27T17:39:50.739Z"
   },
   {
    "duration": 6,
    "start_time": "2024-06-27T17:39:57.282Z"
   },
   {
    "duration": 10,
    "start_time": "2024-06-27T17:40:05.552Z"
   },
   {
    "duration": 6,
    "start_time": "2024-06-27T17:40:11.839Z"
   },
   {
    "duration": 21,
    "start_time": "2024-06-27T17:43:05.404Z"
   },
   {
    "duration": 4,
    "start_time": "2024-06-27T17:44:01.075Z"
   },
   {
    "duration": 3,
    "start_time": "2024-06-27T17:44:11.867Z"
   },
   {
    "duration": 19,
    "start_time": "2024-06-27T17:44:24.888Z"
   },
   {
    "duration": 12,
    "start_time": "2024-06-27T17:44:54.796Z"
   },
   {
    "duration": 13,
    "start_time": "2024-06-27T17:45:51.144Z"
   },
   {
    "duration": 19,
    "start_time": "2024-06-27T17:45:59.510Z"
   },
   {
    "duration": 3,
    "start_time": "2024-06-27T17:47:45.952Z"
   },
   {
    "duration": 487,
    "start_time": "2024-06-27T17:48:09.393Z"
   },
   {
    "duration": 25,
    "start_time": "2024-06-27T17:48:34.105Z"
   },
   {
    "duration": 8,
    "start_time": "2024-06-27T17:48:55.691Z"
   },
   {
    "duration": 4,
    "start_time": "2024-06-27T17:50:39.281Z"
   },
   {
    "duration": 24,
    "start_time": "2024-06-27T17:50:59.479Z"
   },
   {
    "duration": 48,
    "start_time": "2024-06-27T17:51:04.939Z"
   },
   {
    "duration": 26,
    "start_time": "2024-06-27T17:51:41.323Z"
   },
   {
    "duration": 6,
    "start_time": "2024-06-27T17:51:49.296Z"
   },
   {
    "duration": 10,
    "start_time": "2024-06-27T17:52:12.267Z"
   },
   {
    "duration": 3,
    "start_time": "2024-06-27T17:53:12.995Z"
   },
   {
    "duration": 16,
    "start_time": "2024-06-27T17:53:28.752Z"
   },
   {
    "duration": 12,
    "start_time": "2024-06-27T17:53:51.661Z"
   },
   {
    "duration": 7,
    "start_time": "2024-06-27T17:54:08.195Z"
   },
   {
    "duration": 8,
    "start_time": "2024-06-27T17:55:34.110Z"
   },
   {
    "duration": 13,
    "start_time": "2024-06-27T17:56:38.272Z"
   },
   {
    "duration": 7,
    "start_time": "2024-06-27T17:56:44.148Z"
   },
   {
    "duration": 177,
    "start_time": "2024-06-27T17:57:04.765Z"
   },
   {
    "duration": 26,
    "start_time": "2024-06-27T17:59:39.865Z"
   },
   {
    "duration": 5,
    "start_time": "2024-06-27T18:00:10.081Z"
   },
   {
    "duration": 6,
    "start_time": "2024-06-27T18:00:20.246Z"
   },
   {
    "duration": 6,
    "start_time": "2024-06-27T18:03:03.272Z"
   },
   {
    "duration": 6,
    "start_time": "2024-06-27T18:03:28.546Z"
   },
   {
    "duration": 27,
    "start_time": "2024-06-27T18:05:57.466Z"
   },
   {
    "duration": 5,
    "start_time": "2024-06-27T18:06:01.822Z"
   },
   {
    "duration": 7,
    "start_time": "2024-06-27T18:06:02.108Z"
   },
   {
    "duration": 10,
    "start_time": "2024-06-27T18:06:36.157Z"
   },
   {
    "duration": 5,
    "start_time": "2024-06-27T18:07:05.832Z"
   },
   {
    "duration": 7,
    "start_time": "2024-06-27T18:07:11.936Z"
   },
   {
    "duration": 4,
    "start_time": "2024-06-27T18:08:24.843Z"
   },
   {
    "duration": 7,
    "start_time": "2024-06-27T18:08:37.699Z"
   },
   {
    "duration": 10,
    "start_time": "2024-06-27T18:23:37.080Z"
   },
   {
    "duration": 11,
    "start_time": "2024-06-27T18:24:20.686Z"
   },
   {
    "duration": 11,
    "start_time": "2024-06-27T18:24:48.085Z"
   },
   {
    "duration": 22,
    "start_time": "2024-06-27T18:25:44.315Z"
   },
   {
    "duration": 10,
    "start_time": "2024-06-27T18:25:49.053Z"
   },
   {
    "duration": 10,
    "start_time": "2024-06-27T18:26:31.840Z"
   },
   {
    "duration": 10,
    "start_time": "2024-06-27T18:27:18.048Z"
   },
   {
    "duration": 9,
    "start_time": "2024-06-27T18:29:30.923Z"
   },
   {
    "duration": 10,
    "start_time": "2024-06-27T18:29:55.952Z"
   },
   {
    "duration": 10,
    "start_time": "2024-06-27T18:30:23.780Z"
   },
   {
    "duration": 13,
    "start_time": "2024-06-27T18:31:29.921Z"
   },
   {
    "duration": 4,
    "start_time": "2024-06-27T18:31:35.727Z"
   },
   {
    "duration": 9,
    "start_time": "2024-06-27T18:31:48.376Z"
   },
   {
    "duration": 11,
    "start_time": "2024-06-27T18:32:03.566Z"
   },
   {
    "duration": 4,
    "start_time": "2024-06-27T18:32:25.355Z"
   },
   {
    "duration": 5,
    "start_time": "2024-06-27T19:33:13.557Z"
   },
   {
    "duration": 42,
    "start_time": "2024-06-27T19:47:37.140Z"
   },
   {
    "duration": 6,
    "start_time": "2024-06-27T19:47:41.215Z"
   },
   {
    "duration": 5,
    "start_time": "2024-06-27T19:47:49.438Z"
   },
   {
    "duration": 13,
    "start_time": "2024-06-27T19:47:50.582Z"
   },
   {
    "duration": 11,
    "start_time": "2024-06-27T19:48:06.291Z"
   },
   {
    "duration": 732,
    "start_time": "2024-06-27T19:48:22.385Z"
   },
   {
    "duration": 25,
    "start_time": "2024-06-27T19:50:14.003Z"
   },
   {
    "duration": 10,
    "start_time": "2024-06-27T19:50:29.202Z"
   },
   {
    "duration": 23,
    "start_time": "2024-06-27T19:51:14.611Z"
   },
   {
    "duration": 68,
    "start_time": "2024-06-27T19:51:21.400Z"
   },
   {
    "duration": 6,
    "start_time": "2024-06-27T19:52:00.488Z"
   },
   {
    "duration": 11,
    "start_time": "2024-06-27T19:52:24.097Z"
   },
   {
    "duration": 63,
    "start_time": "2024-06-27T19:52:58.370Z"
   },
   {
    "duration": 6,
    "start_time": "2024-06-27T19:53:18.890Z"
   },
   {
    "duration": 21,
    "start_time": "2024-06-27T19:53:36.919Z"
   },
   {
    "duration": 12,
    "start_time": "2024-06-27T19:53:42.255Z"
   },
   {
    "duration": 7,
    "start_time": "2024-06-27T19:54:03.968Z"
   },
   {
    "duration": 5,
    "start_time": "2024-06-27T19:55:47.041Z"
   },
   {
    "duration": 24,
    "start_time": "2024-06-27T19:56:02.679Z"
   },
   {
    "duration": 537,
    "start_time": "2024-06-27T19:56:08.996Z"
   },
   {
    "duration": 31,
    "start_time": "2024-06-27T19:57:16.995Z"
   },
   {
    "duration": 9,
    "start_time": "2024-06-27T19:57:42.788Z"
   },
   {
    "duration": 3,
    "start_time": "2024-06-27T19:59:34.099Z"
   },
   {
    "duration": 4,
    "start_time": "2024-06-27T20:00:22.229Z"
   },
   {
    "duration": 43,
    "start_time": "2024-06-27T20:00:40.201Z"
   },
   {
    "duration": 6,
    "start_time": "2024-06-27T20:01:00.071Z"
   },
   {
    "duration": 341,
    "start_time": "2024-06-27T20:01:17.386Z"
   },
   {
    "duration": 10,
    "start_time": "2024-06-27T20:02:53.904Z"
   },
   {
    "duration": 3,
    "start_time": "2024-06-27T20:03:55.141Z"
   },
   {
    "duration": 53,
    "start_time": "2024-06-27T20:04:13.299Z"
   },
   {
    "duration": 10,
    "start_time": "2024-06-27T20:04:39.785Z"
   },
   {
    "duration": 121,
    "start_time": "2024-06-27T20:04:57.982Z"
   },
   {
    "duration": 6,
    "start_time": "2024-06-27T20:05:17.068Z"
   },
   {
    "duration": 9,
    "start_time": "2024-06-27T20:05:17.289Z"
   },
   {
    "duration": 29,
    "start_time": "2024-06-27T20:18:10.611Z"
   },
   {
    "duration": 4,
    "start_time": "2024-06-27T20:18:54.532Z"
   },
   {
    "duration": 6,
    "start_time": "2024-06-27T20:19:07.249Z"
   },
   {
    "duration": 5,
    "start_time": "2024-06-27T20:19:46.110Z"
   },
   {
    "duration": 10,
    "start_time": "2024-06-27T20:19:52.404Z"
   },
   {
    "duration": 229,
    "start_time": "2024-06-27T20:20:10.446Z"
   },
   {
    "duration": 1296,
    "start_time": "2024-06-27T20:29:11.729Z"
   },
   {
    "duration": 266,
    "start_time": "2024-06-27T20:29:16.451Z"
   },
   {
    "duration": 193,
    "start_time": "2024-06-27T20:30:44.664Z"
   },
   {
    "duration": 10,
    "start_time": "2024-06-27T20:31:32.785Z"
   },
   {
    "duration": 6,
    "start_time": "2024-06-27T20:31:40.039Z"
   },
   {
    "duration": 6,
    "start_time": "2024-06-27T20:34:17.683Z"
   },
   {
    "duration": 4,
    "start_time": "2024-06-27T20:34:37.095Z"
   },
   {
    "duration": 5,
    "start_time": "2024-06-27T20:35:10.434Z"
   },
   {
    "duration": 178,
    "start_time": "2024-06-27T20:35:55.132Z"
   },
   {
    "duration": 7,
    "start_time": "2024-06-27T20:36:24.476Z"
   },
   {
    "duration": 6,
    "start_time": "2024-06-27T20:36:30.701Z"
   },
   {
    "duration": 10,
    "start_time": "2024-06-27T20:37:16.608Z"
   },
   {
    "duration": 28,
    "start_time": "2024-06-27T20:37:33.215Z"
   },
   {
    "duration": 3,
    "start_time": "2024-06-27T20:37:46.831Z"
   },
   {
    "duration": 6,
    "start_time": "2024-06-27T20:38:30.867Z"
   },
   {
    "duration": 5,
    "start_time": "2024-06-27T20:38:37.859Z"
   },
   {
    "duration": 186,
    "start_time": "2024-06-27T20:39:08.803Z"
   },
   {
    "duration": 8,
    "start_time": "2024-06-27T20:40:10.219Z"
   },
   {
    "duration": 6,
    "start_time": "2024-06-27T20:40:13.507Z"
   },
   {
    "duration": 5408,
    "start_time": "2024-06-28T07:58:10.450Z"
   },
   {
    "duration": 54,
    "start_time": "2024-06-28T07:58:15.862Z"
   },
   {
    "duration": 34,
    "start_time": "2024-06-28T07:58:15.919Z"
   },
   {
    "duration": 5,
    "start_time": "2024-06-28T07:58:15.959Z"
   },
   {
    "duration": 16,
    "start_time": "2024-06-28T07:58:15.968Z"
   },
   {
    "duration": 44,
    "start_time": "2024-06-28T07:58:15.988Z"
   },
   {
    "duration": 9,
    "start_time": "2024-06-28T07:58:16.035Z"
   },
   {
    "duration": 4,
    "start_time": "2024-06-28T07:58:16.047Z"
   },
   {
    "duration": 16,
    "start_time": "2024-06-28T07:58:16.054Z"
   },
   {
    "duration": 6,
    "start_time": "2024-06-28T07:58:16.077Z"
   },
   {
    "duration": 6,
    "start_time": "2024-06-28T07:58:16.131Z"
   },
   {
    "duration": 3,
    "start_time": "2024-06-28T07:58:16.141Z"
   },
   {
    "duration": 34,
    "start_time": "2024-06-28T07:58:16.148Z"
   },
   {
    "duration": 51,
    "start_time": "2024-06-28T07:58:16.184Z"
   },
   {
    "duration": 6,
    "start_time": "2024-06-28T07:58:16.239Z"
   },
   {
    "duration": 8,
    "start_time": "2024-06-28T07:58:16.248Z"
   },
   {
    "duration": 9,
    "start_time": "2024-06-28T07:58:16.259Z"
   },
   {
    "duration": 7,
    "start_time": "2024-06-28T07:58:16.273Z"
   },
   {
    "duration": 6,
    "start_time": "2024-06-28T07:58:16.329Z"
   },
   {
    "duration": 7,
    "start_time": "2024-06-28T07:58:16.338Z"
   },
   {
    "duration": 6,
    "start_time": "2024-06-28T07:58:16.348Z"
   },
   {
    "duration": 21,
    "start_time": "2024-06-28T07:58:16.358Z"
   },
   {
    "duration": 47,
    "start_time": "2024-06-28T07:58:16.384Z"
   },
   {
    "duration": 4,
    "start_time": "2024-06-28T07:58:16.435Z"
   },
   {
    "duration": 12,
    "start_time": "2024-06-28T07:58:16.442Z"
   },
   {
    "duration": 10,
    "start_time": "2024-06-28T07:58:16.457Z"
   },
   {
    "duration": 10,
    "start_time": "2024-06-28T07:58:16.470Z"
   },
   {
    "duration": 19,
    "start_time": "2024-06-28T07:58:16.537Z"
   },
   {
    "duration": 4,
    "start_time": "2024-06-28T07:58:16.559Z"
   },
   {
    "duration": 500,
    "start_time": "2024-06-28T07:58:16.566Z"
   },
   {
    "duration": 26,
    "start_time": "2024-06-28T07:58:17.069Z"
   },
   {
    "duration": 32,
    "start_time": "2024-06-28T07:58:17.098Z"
   },
   {
    "duration": 4,
    "start_time": "2024-06-28T07:58:17.133Z"
   },
   {
    "duration": 48,
    "start_time": "2024-06-28T07:58:17.140Z"
   },
   {
    "duration": 7,
    "start_time": "2024-06-28T07:58:17.191Z"
   },
   {
    "duration": 8,
    "start_time": "2024-06-28T07:58:17.231Z"
   },
   {
    "duration": 4,
    "start_time": "2024-06-28T07:58:17.242Z"
   },
   {
    "duration": 15,
    "start_time": "2024-06-28T07:58:17.250Z"
   },
   {
    "duration": 63,
    "start_time": "2024-06-28T07:58:17.268Z"
   },
   {
    "duration": 10,
    "start_time": "2024-06-28T07:58:17.334Z"
   },
   {
    "duration": 84,
    "start_time": "2024-06-28T07:58:17.347Z"
   },
   {
    "duration": 7,
    "start_time": "2024-06-28T07:58:17.434Z"
   },
   {
    "duration": 225,
    "start_time": "2024-06-28T07:58:17.443Z"
   },
   {
    "duration": 26,
    "start_time": "2024-06-28T07:58:17.672Z"
   },
   {
    "duration": 7,
    "start_time": "2024-06-28T07:58:17.701Z"
   },
   {
    "duration": 7,
    "start_time": "2024-06-28T07:58:17.730Z"
   },
   {
    "duration": 7,
    "start_time": "2024-06-28T07:58:17.740Z"
   },
   {
    "duration": 5,
    "start_time": "2024-06-28T07:58:17.750Z"
   },
   {
    "duration": 7,
    "start_time": "2024-06-28T07:58:17.758Z"
   },
   {
    "duration": 62,
    "start_time": "2024-06-28T07:58:17.769Z"
   },
   {
    "duration": 4,
    "start_time": "2024-06-28T07:58:17.834Z"
   },
   {
    "duration": 7,
    "start_time": "2024-06-28T07:58:17.841Z"
   },
   {
    "duration": 4,
    "start_time": "2024-06-28T07:58:17.851Z"
   },
   {
    "duration": 8,
    "start_time": "2024-06-28T07:58:17.932Z"
   },
   {
    "duration": 10,
    "start_time": "2024-06-28T07:58:17.943Z"
   },
   {
    "duration": 10,
    "start_time": "2024-06-28T07:58:17.956Z"
   },
   {
    "duration": 64,
    "start_time": "2024-06-28T07:58:17.969Z"
   },
   {
    "duration": 10,
    "start_time": "2024-06-28T07:58:18.038Z"
   },
   {
    "duration": 13,
    "start_time": "2024-06-28T07:58:18.052Z"
   },
   {
    "duration": 9,
    "start_time": "2024-06-28T07:58:18.070Z"
   },
   {
    "duration": 52,
    "start_time": "2024-06-28T07:58:18.082Z"
   },
   {
    "duration": 11,
    "start_time": "2024-06-28T07:58:18.138Z"
   },
   {
    "duration": 11,
    "start_time": "2024-06-28T07:58:18.154Z"
   },
   {
    "duration": 11,
    "start_time": "2024-06-28T07:58:18.169Z"
   },
   {
    "duration": 51,
    "start_time": "2024-06-28T07:58:18.183Z"
   },
   {
    "duration": 10,
    "start_time": "2024-06-28T07:58:18.237Z"
   },
   {
    "duration": 6,
    "start_time": "2024-06-28T07:58:18.250Z"
   },
   {
    "duration": 12,
    "start_time": "2024-06-28T07:58:18.259Z"
   },
   {
    "duration": 773,
    "start_time": "2024-06-28T07:58:18.274Z"
   },
   {
    "duration": 29,
    "start_time": "2024-06-28T07:58:19.053Z"
   },
   {
    "duration": 12,
    "start_time": "2024-06-28T07:58:19.085Z"
   },
   {
    "duration": 87,
    "start_time": "2024-06-28T07:58:19.100Z"
   },
   {
    "duration": 6,
    "start_time": "2024-06-28T07:58:19.190Z"
   },
   {
    "duration": 34,
    "start_time": "2024-06-28T07:58:19.200Z"
   },
   {
    "duration": 60,
    "start_time": "2024-06-28T07:58:19.237Z"
   },
   {
    "duration": 32,
    "start_time": "2024-06-28T07:58:19.300Z"
   },
   {
    "duration": 17,
    "start_time": "2024-06-28T07:58:19.335Z"
   },
   {
    "duration": 4,
    "start_time": "2024-06-28T07:58:19.431Z"
   },
   {
    "duration": 556,
    "start_time": "2024-06-28T07:58:19.438Z"
   },
   {
    "duration": 44,
    "start_time": "2024-06-28T07:58:19.998Z"
   },
   {
    "duration": 12,
    "start_time": "2024-06-28T07:58:20.046Z"
   },
   {
    "duration": 4,
    "start_time": "2024-06-28T07:58:20.074Z"
   },
   {
    "duration": 71,
    "start_time": "2024-06-28T07:58:20.081Z"
   },
   {
    "duration": 8,
    "start_time": "2024-06-28T07:58:20.154Z"
   },
   {
    "duration": 10,
    "start_time": "2024-06-28T07:58:20.166Z"
   },
   {
    "duration": 4,
    "start_time": "2024-06-28T07:58:20.179Z"
   },
   {
    "duration": 90,
    "start_time": "2024-06-28T07:58:20.186Z"
   },
   {
    "duration": 11,
    "start_time": "2024-06-28T07:58:20.279Z"
   },
   {
    "duration": 45,
    "start_time": "2024-06-28T07:58:20.294Z"
   },
   {
    "duration": 105,
    "start_time": "2024-06-28T07:58:20.344Z"
   },
   {
    "duration": 5,
    "start_time": "2024-06-28T07:58:20.452Z"
   },
   {
    "duration": 7,
    "start_time": "2024-06-28T07:58:20.460Z"
   },
   {
    "duration": 7,
    "start_time": "2024-06-28T07:58:20.469Z"
   },
   {
    "duration": 224,
    "start_time": "2024-06-28T07:58:20.479Z"
   },
   {
    "duration": 7,
    "start_time": "2024-06-28T07:58:20.706Z"
   },
   {
    "duration": 18,
    "start_time": "2024-06-28T07:58:20.716Z"
   },
   {
    "duration": 7,
    "start_time": "2024-06-28T07:58:20.737Z"
   },
   {
    "duration": 3,
    "start_time": "2024-06-28T07:58:20.748Z"
   },
   {
    "duration": 7,
    "start_time": "2024-06-28T07:58:20.754Z"
   },
   {
    "duration": 293,
    "start_time": "2024-06-28T07:58:20.764Z"
   },
   {
    "duration": 8,
    "start_time": "2024-06-28T07:58:21.060Z"
   },
   {
    "duration": 7,
    "start_time": "2024-06-28T07:58:21.071Z"
   },
   {
    "duration": 50,
    "start_time": "2024-06-28T07:58:21.082Z"
   },
   {
    "duration": 4,
    "start_time": "2024-06-28T07:58:21.135Z"
   },
   {
    "duration": 6,
    "start_time": "2024-06-28T07:58:21.142Z"
   },
   {
    "duration": 274,
    "start_time": "2024-06-28T07:58:21.151Z"
   },
   {
    "duration": 8,
    "start_time": "2024-06-28T07:58:21.429Z"
   },
   {
    "duration": 6,
    "start_time": "2024-06-28T07:58:21.440Z"
   },
   {
    "duration": 5110,
    "start_time": "2024-06-30T16:11:44.662Z"
   },
   {
    "duration": 55,
    "start_time": "2024-06-30T16:11:49.777Z"
   },
   {
    "duration": 36,
    "start_time": "2024-06-30T16:11:49.835Z"
   },
   {
    "duration": 6,
    "start_time": "2024-06-30T16:11:49.874Z"
   },
   {
    "duration": 15,
    "start_time": "2024-06-30T16:11:58.090Z"
   },
   {
    "duration": 10,
    "start_time": "2024-06-30T16:11:59.099Z"
   },
   {
    "duration": 7,
    "start_time": "2024-06-30T16:12:37.608Z"
   },
   {
    "duration": 8,
    "start_time": "2024-06-30T16:12:58.767Z"
   },
   {
    "duration": 6,
    "start_time": "2024-06-30T16:13:25.105Z"
   },
   {
    "duration": 20,
    "start_time": "2024-06-30T16:13:26.319Z"
   },
   {
    "duration": 16,
    "start_time": "2024-06-30T16:14:41.559Z"
   },
   {
    "duration": 6,
    "start_time": "2024-06-30T16:14:43.737Z"
   },
   {
    "duration": 6,
    "start_time": "2024-06-30T16:14:44.823Z"
   },
   {
    "duration": 4,
    "start_time": "2024-06-30T16:14:51.001Z"
   },
   {
    "duration": 28,
    "start_time": "2024-06-30T16:14:51.512Z"
   },
   {
    "duration": 21,
    "start_time": "2024-06-30T16:14:52.173Z"
   },
   {
    "duration": 7,
    "start_time": "2024-06-30T16:14:59.968Z"
   },
   {
    "duration": 1765,
    "start_time": "2024-06-30T16:15:01.805Z"
   },
   {
    "duration": 8,
    "start_time": "2024-06-30T16:15:30.505Z"
   },
   {
    "duration": 10,
    "start_time": "2024-06-30T16:17:49.942Z"
   },
   {
    "duration": 6,
    "start_time": "2024-06-30T16:17:51.261Z"
   },
   {
    "duration": 5,
    "start_time": "2024-06-30T16:17:52.662Z"
   },
   {
    "duration": 5,
    "start_time": "2024-06-30T16:17:53.456Z"
   },
   {
    "duration": 6,
    "start_time": "2024-06-30T16:17:54.139Z"
   },
   {
    "duration": 4,
    "start_time": "2024-06-30T16:20:06.988Z"
   },
   {
    "duration": 4,
    "start_time": "2024-06-30T16:20:07.532Z"
   },
   {
    "duration": 14,
    "start_time": "2024-06-30T16:20:08.172Z"
   },
   {
    "duration": 8,
    "start_time": "2024-06-30T16:20:09.186Z"
   },
   {
    "duration": 11,
    "start_time": "2024-06-30T16:20:11.604Z"
   },
   {
    "duration": 17,
    "start_time": "2024-06-30T16:20:14.324Z"
   },
   {
    "duration": 4,
    "start_time": "2024-06-30T16:21:00.503Z"
   },
   {
    "duration": 337,
    "start_time": "2024-06-30T16:21:01.039Z"
   },
   {
    "duration": 24,
    "start_time": "2024-06-30T16:21:01.630Z"
   },
   {
    "duration": 261,
    "start_time": "2024-06-30T16:21:02.303Z"
   },
   {
    "duration": 6,
    "start_time": "2024-06-30T17:13:54.175Z"
   },
   {
    "duration": 36,
    "start_time": "2024-06-30T17:13:54.185Z"
   },
   {
    "duration": 30,
    "start_time": "2024-06-30T17:13:54.224Z"
   },
   {
    "duration": 6,
    "start_time": "2024-06-30T17:13:54.257Z"
   },
   {
    "duration": 15,
    "start_time": "2024-06-30T17:13:54.301Z"
   },
   {
    "duration": 10,
    "start_time": "2024-06-30T17:13:54.319Z"
   },
   {
    "duration": 7,
    "start_time": "2024-06-30T17:13:54.331Z"
   },
   {
    "duration": 7,
    "start_time": "2024-06-30T17:13:54.341Z"
   },
   {
    "duration": 63,
    "start_time": "2024-06-30T17:13:54.350Z"
   },
   {
    "duration": 6,
    "start_time": "2024-06-30T17:13:54.416Z"
   },
   {
    "duration": 5,
    "start_time": "2024-06-30T17:13:54.428Z"
   },
   {
    "duration": 4,
    "start_time": "2024-06-30T17:13:54.436Z"
   },
   {
    "duration": 72,
    "start_time": "2024-06-30T17:13:54.443Z"
   },
   {
    "duration": 21,
    "start_time": "2024-06-30T17:13:58.446Z"
   },
   {
    "duration": 6,
    "start_time": "2024-06-30T17:14:05.976Z"
   },
   {
    "duration": 7,
    "start_time": "2024-06-30T17:14:07.196Z"
   },
   {
    "duration": 10,
    "start_time": "2024-06-30T17:14:31.440Z"
   },
   {
    "duration": 5,
    "start_time": "2024-06-30T17:14:32.636Z"
   },
   {
    "duration": 6,
    "start_time": "2024-06-30T17:14:33.573Z"
   },
   {
    "duration": 6,
    "start_time": "2024-06-30T17:14:34.255Z"
   },
   {
    "duration": 6,
    "start_time": "2024-06-30T17:14:35.758Z"
   },
   {
    "duration": 32,
    "start_time": "2024-06-30T17:14:42.596Z"
   },
   {
    "duration": 3,
    "start_time": "2024-06-30T17:14:43.243Z"
   },
   {
    "duration": 3,
    "start_time": "2024-06-30T17:14:44.458Z"
   },
   {
    "duration": 12,
    "start_time": "2024-06-30T17:14:45.067Z"
   },
   {
    "duration": 9,
    "start_time": "2024-06-30T17:14:45.793Z"
   },
   {
    "duration": 11,
    "start_time": "2024-06-30T17:14:46.431Z"
   },
   {
    "duration": 17,
    "start_time": "2024-06-30T17:14:49.720Z"
   },
   {
    "duration": 3,
    "start_time": "2024-06-30T17:15:03.822Z"
   },
   {
    "duration": 351,
    "start_time": "2024-06-30T17:15:04.997Z"
   },
   {
    "duration": 26,
    "start_time": "2024-06-30T17:15:06.597Z"
   },
   {
    "duration": 63,
    "start_time": "2024-06-30T17:15:11.516Z"
   },
   {
    "duration": 3,
    "start_time": "2024-06-30T17:15:20.788Z"
   },
   {
    "duration": 32,
    "start_time": "2024-06-30T17:15:21.161Z"
   },
   {
    "duration": 6,
    "start_time": "2024-06-30T17:15:21.627Z"
   },
   {
    "duration": 63,
    "start_time": "2024-06-30T17:15:22.062Z"
   },
   {
    "duration": 6,
    "start_time": "2024-06-30T17:16:16.262Z"
   },
   {
    "duration": 36,
    "start_time": "2024-06-30T17:16:16.272Z"
   },
   {
    "duration": 32,
    "start_time": "2024-06-30T17:16:16.312Z"
   },
   {
    "duration": 6,
    "start_time": "2024-06-30T17:16:16.347Z"
   },
   {
    "duration": 54,
    "start_time": "2024-06-30T17:16:16.359Z"
   },
   {
    "duration": 10,
    "start_time": "2024-06-30T17:16:16.416Z"
   },
   {
    "duration": 7,
    "start_time": "2024-06-30T17:16:16.429Z"
   },
   {
    "duration": 6,
    "start_time": "2024-06-30T17:16:16.440Z"
   },
   {
    "duration": 64,
    "start_time": "2024-06-30T17:16:16.449Z"
   },
   {
    "duration": 8,
    "start_time": "2024-06-30T17:16:16.517Z"
   },
   {
    "duration": 6,
    "start_time": "2024-06-30T17:16:16.528Z"
   },
   {
    "duration": 3,
    "start_time": "2024-06-30T17:16:16.537Z"
   },
   {
    "duration": 70,
    "start_time": "2024-06-30T17:16:16.543Z"
   },
   {
    "duration": 20,
    "start_time": "2024-06-30T17:16:16.619Z"
   },
   {
    "duration": 6,
    "start_time": "2024-06-30T17:16:16.643Z"
   },
   {
    "duration": 7,
    "start_time": "2024-06-30T17:16:16.653Z"
   },
   {
    "duration": 10,
    "start_time": "2024-06-30T17:16:18.883Z"
   },
   {
    "duration": 6,
    "start_time": "2024-06-30T17:16:20.120Z"
   },
   {
    "duration": 5,
    "start_time": "2024-06-30T17:16:21.083Z"
   },
   {
    "duration": 6,
    "start_time": "2024-06-30T17:16:22.959Z"
   },
   {
    "duration": 5,
    "start_time": "2024-06-30T17:16:23.663Z"
   },
   {
    "duration": 19,
    "start_time": "2024-06-30T17:16:27.466Z"
   },
   {
    "duration": 5,
    "start_time": "2024-06-30T17:16:28.205Z"
   },
   {
    "duration": 4,
    "start_time": "2024-06-30T17:16:29.245Z"
   },
   {
    "duration": 11,
    "start_time": "2024-06-30T17:16:29.591Z"
   },
   {
    "duration": 11,
    "start_time": "2024-06-30T17:16:30.147Z"
   },
   {
    "duration": 8,
    "start_time": "2024-06-30T17:16:30.731Z"
   },
   {
    "duration": 16,
    "start_time": "2024-06-30T17:16:31.520Z"
   },
   {
    "duration": 3,
    "start_time": "2024-06-30T17:16:34.291Z"
   },
   {
    "duration": 361,
    "start_time": "2024-06-30T17:16:34.655Z"
   },
   {
    "duration": 23,
    "start_time": "2024-06-30T17:16:35.807Z"
   },
   {
    "duration": 7,
    "start_time": "2024-06-30T17:16:36.805Z"
   },
   {
    "duration": 3,
    "start_time": "2024-06-30T17:16:40.885Z"
   },
   {
    "duration": 33,
    "start_time": "2024-06-30T17:16:41.141Z"
   },
   {
    "duration": 7,
    "start_time": "2024-06-30T17:16:41.459Z"
   },
   {
    "duration": 7,
    "start_time": "2024-06-30T17:16:42.113Z"
   },
   {
    "duration": 3,
    "start_time": "2024-06-30T17:16:43.642Z"
   },
   {
    "duration": 12,
    "start_time": "2024-06-30T17:16:44.049Z"
   },
   {
    "duration": 10,
    "start_time": "2024-06-30T17:16:44.632Z"
   },
   {
    "duration": 7,
    "start_time": "2024-06-30T17:16:45.182Z"
   },
   {
    "duration": 11,
    "start_time": "2024-06-30T17:16:52.318Z"
   },
   {
    "duration": 6,
    "start_time": "2024-06-30T17:16:53.284Z"
   },
   {
    "duration": 189,
    "start_time": "2024-06-30T17:17:42.840Z"
   },
   {
    "duration": 22,
    "start_time": "2024-06-30T17:18:18.892Z"
   },
   {
    "duration": 4,
    "start_time": "2024-06-30T17:18:19.286Z"
   },
   {
    "duration": 7,
    "start_time": "2024-06-30T17:18:19.727Z"
   },
   {
    "duration": 6,
    "start_time": "2024-06-30T17:18:21.300Z"
   },
   {
    "duration": 5,
    "start_time": "2024-06-30T17:18:21.792Z"
   },
   {
    "duration": 7,
    "start_time": "2024-06-30T17:18:22.321Z"
   },
   {
    "duration": 6,
    "start_time": "2024-06-30T17:18:25.046Z"
   },
   {
    "duration": 4,
    "start_time": "2024-06-30T17:18:25.435Z"
   },
   {
    "duration": 7,
    "start_time": "2024-06-30T17:18:25.959Z"
   },
   {
    "duration": 4,
    "start_time": "2024-06-30T17:18:31.260Z"
   },
   {
    "duration": 7,
    "start_time": "2024-06-30T17:18:31.739Z"
   },
   {
    "duration": 10,
    "start_time": "2024-06-30T17:18:35.403Z"
   },
   {
    "duration": 9,
    "start_time": "2024-06-30T17:18:37.039Z"
   },
   {
    "duration": 9,
    "start_time": "2024-06-30T17:18:37.934Z"
   },
   {
    "duration": 9,
    "start_time": "2024-06-30T17:18:39.167Z"
   },
   {
    "duration": 10,
    "start_time": "2024-06-30T17:18:40.264Z"
   },
   {
    "duration": 9,
    "start_time": "2024-06-30T17:18:41.863Z"
   },
   {
    "duration": 9,
    "start_time": "2024-06-30T17:18:44.540Z"
   },
   {
    "duration": 9,
    "start_time": "2024-06-30T17:18:46.022Z"
   },
   {
    "duration": 8,
    "start_time": "2024-06-30T17:18:47.197Z"
   },
   {
    "duration": 9,
    "start_time": "2024-06-30T17:18:50.691Z"
   },
   {
    "duration": 9,
    "start_time": "2024-06-30T17:18:51.540Z"
   },
   {
    "duration": 11,
    "start_time": "2024-06-30T17:18:52.389Z"
   },
   {
    "duration": 6,
    "start_time": "2024-06-30T17:19:04.062Z"
   },
   {
    "duration": 11,
    "start_time": "2024-06-30T17:19:05.570Z"
   },
   {
    "duration": 541,
    "start_time": "2024-06-30T17:19:06.048Z"
   },
   {
    "duration": 24,
    "start_time": "2024-06-30T17:19:06.601Z"
   },
   {
    "duration": 10,
    "start_time": "2024-06-30T17:19:07.207Z"
   },
   {
    "duration": 45,
    "start_time": "2024-06-30T17:19:09.579Z"
   },
   {
    "duration": 6,
    "start_time": "2024-06-30T17:19:10.132Z"
   },
   {
    "duration": 10,
    "start_time": "2024-06-30T17:19:10.640Z"
   },
   {
    "duration": 25,
    "start_time": "2024-06-30T17:19:11.440Z"
   },
   {
    "duration": 7,
    "start_time": "2024-06-30T17:19:11.697Z"
   },
   {
    "duration": 9,
    "start_time": "2024-06-30T17:19:12.156Z"
   },
   {
    "duration": 4,
    "start_time": "2024-06-30T17:19:40.643Z"
   },
   {
    "duration": 406,
    "start_time": "2024-06-30T17:19:41.082Z"
   },
   {
    "duration": 25,
    "start_time": "2024-06-30T17:19:41.541Z"
   },
   {
    "duration": 9,
    "start_time": "2024-06-30T17:19:42.069Z"
   },
   {
    "duration": 4,
    "start_time": "2024-06-30T17:19:42.988Z"
   },
   {
    "duration": 30,
    "start_time": "2024-06-30T17:19:43.259Z"
   },
   {
    "duration": 6,
    "start_time": "2024-06-30T17:19:43.591Z"
   },
   {
    "duration": 10,
    "start_time": "2024-06-30T17:19:44.030Z"
   },
   {
    "duration": 4,
    "start_time": "2024-06-30T17:19:45.108Z"
   },
   {
    "duration": 16,
    "start_time": "2024-06-30T17:19:45.530Z"
   },
   {
    "duration": 17,
    "start_time": "2024-06-30T17:19:45.931Z"
   },
   {
    "duration": 9,
    "start_time": "2024-06-30T17:19:46.396Z"
   },
   {
    "duration": 17,
    "start_time": "2024-06-30T17:21:52.894Z"
   },
   {
    "duration": 14,
    "start_time": "2024-06-30T17:24:17.795Z"
   },
   {
    "duration": 5,
    "start_time": "2024-06-30T17:25:02.620Z"
   },
   {
    "duration": 13,
    "start_time": "2024-06-30T17:25:03.153Z"
   },
   {
    "duration": 11,
    "start_time": "2024-06-30T17:25:05.233Z"
   },
   {
    "duration": 164,
    "start_time": "2024-06-30T17:27:32.380Z"
   },
   {
    "duration": 49,
    "start_time": "2024-06-30T17:27:56.075Z"
   },
   {
    "duration": 6,
    "start_time": "2024-06-30T17:27:56.293Z"
   },
   {
    "duration": 11,
    "start_time": "2024-06-30T17:27:56.526Z"
   },
   {
    "duration": 24,
    "start_time": "2024-06-30T17:29:09.662Z"
   },
   {
    "duration": 21,
    "start_time": "2024-06-30T17:29:27.189Z"
   },
   {
    "duration": 107,
    "start_time": "2024-06-30T17:29:30.941Z"
   },
   {
    "duration": 114,
    "start_time": "2024-06-30T17:29:35.327Z"
   },
   {
    "duration": 5,
    "start_time": "2024-06-30T17:30:07.353Z"
   },
   {
    "duration": 4,
    "start_time": "2024-06-30T17:31:42.276Z"
   },
   {
    "duration": 12,
    "start_time": "2024-06-30T17:31:42.506Z"
   },
   {
    "duration": 7,
    "start_time": "2024-06-30T17:31:42.735Z"
   },
   {
    "duration": 9,
    "start_time": "2024-06-30T17:31:43.875Z"
   },
   {
    "duration": 16,
    "start_time": "2024-06-30T17:32:38.891Z"
   },
   {
    "duration": 5,
    "start_time": "2024-06-30T17:32:47.180Z"
   },
   {
    "duration": 7,
    "start_time": "2024-06-30T17:32:47.456Z"
   },
   {
    "duration": 167,
    "start_time": "2024-06-30T17:32:48.433Z"
   },
   {
    "duration": 16,
    "start_time": "2024-06-30T17:32:54.288Z"
   },
   {
    "duration": 4,
    "start_time": "2024-06-30T17:32:54.618Z"
   },
   {
    "duration": 6,
    "start_time": "2024-06-30T17:32:55.455Z"
   },
   {
    "duration": 6,
    "start_time": "2024-06-30T17:32:56.375Z"
   },
   {
    "duration": 4,
    "start_time": "2024-06-30T17:32:56.576Z"
   },
   {
    "duration": 7,
    "start_time": "2024-06-30T17:32:56.935Z"
   },
   {
    "duration": 6,
    "start_time": "2024-06-30T17:32:57.771Z"
   },
   {
    "duration": 5,
    "start_time": "2024-06-30T17:32:58.018Z"
   },
   {
    "duration": 7,
    "start_time": "2024-06-30T17:32:58.460Z"
   },
   {
    "duration": 4,
    "start_time": "2024-06-30T17:33:01.307Z"
   },
   {
    "duration": 7,
    "start_time": "2024-06-30T17:33:01.775Z"
   },
   {
    "duration": 9,
    "start_time": "2024-06-30T17:33:06.517Z"
   },
   {
    "duration": 10,
    "start_time": "2024-06-30T17:33:07.382Z"
   },
   {
    "duration": 9,
    "start_time": "2024-06-30T17:33:08.714Z"
   },
   {
    "duration": 11,
    "start_time": "2024-06-30T17:33:11.605Z"
   },
   {
    "duration": 9,
    "start_time": "2024-06-30T17:33:15.009Z"
   },
   {
    "duration": 15,
    "start_time": "2024-06-30T17:33:15.938Z"
   },
   {
    "duration": 10,
    "start_time": "2024-06-30T17:33:17.555Z"
   },
   {
    "duration": 9,
    "start_time": "2024-06-30T17:33:19.580Z"
   },
   {
    "duration": 10,
    "start_time": "2024-06-30T17:33:20.585Z"
   },
   {
    "duration": 12,
    "start_time": "2024-06-30T17:33:21.909Z"
   },
   {
    "duration": 9,
    "start_time": "2024-06-30T17:33:22.757Z"
   },
   {
    "duration": 9,
    "start_time": "2024-06-30T17:33:24.301Z"
   },
   {
    "duration": 4,
    "start_time": "2024-06-30T17:34:59.541Z"
   },
   {
    "duration": 357,
    "start_time": "2024-06-30T17:34:59.925Z"
   },
   {
    "duration": 24,
    "start_time": "2024-06-30T17:35:00.936Z"
   },
   {
    "duration": 9,
    "start_time": "2024-06-30T17:35:01.212Z"
   },
   {
    "duration": 4,
    "start_time": "2024-06-30T17:35:02.157Z"
   },
   {
    "duration": 33,
    "start_time": "2024-06-30T17:35:02.576Z"
   },
   {
    "duration": 5,
    "start_time": "2024-06-30T17:35:02.901Z"
   },
   {
    "duration": 7,
    "start_time": "2024-06-30T17:35:03.333Z"
   },
   {
    "duration": 4,
    "start_time": "2024-06-30T17:35:04.285Z"
   },
   {
    "duration": 12,
    "start_time": "2024-06-30T17:35:04.710Z"
   },
   {
    "duration": 16,
    "start_time": "2024-06-30T17:35:05.185Z"
   },
   {
    "duration": 9,
    "start_time": "2024-06-30T17:35:05.898Z"
   },
   {
    "duration": 17,
    "start_time": "2024-06-30T17:35:06.650Z"
   },
   {
    "duration": 4,
    "start_time": "2024-06-30T17:36:13.687Z"
   },
   {
    "duration": 12,
    "start_time": "2024-06-30T17:36:14.040Z"
   },
   {
    "duration": 6,
    "start_time": "2024-06-30T17:36:14.317Z"
   },
   {
    "duration": 7,
    "start_time": "2024-06-30T17:36:14.889Z"
   },
   {
    "duration": 4,
    "start_time": "2024-06-30T17:36:33.810Z"
   },
   {
    "duration": 356,
    "start_time": "2024-06-30T17:36:34.214Z"
   },
   {
    "duration": 22,
    "start_time": "2024-06-30T17:36:35.370Z"
   },
   {
    "duration": 10,
    "start_time": "2024-06-30T17:36:36.098Z"
   },
   {
    "duration": 5,
    "start_time": "2024-06-30T17:36:37.056Z"
   },
   {
    "duration": 33,
    "start_time": "2024-06-30T17:36:37.356Z"
   },
   {
    "duration": 6,
    "start_time": "2024-06-30T17:36:37.680Z"
   },
   {
    "duration": 9,
    "start_time": "2024-06-30T17:36:38.059Z"
   },
   {
    "duration": 5,
    "start_time": "2024-06-30T17:36:40.196Z"
   },
   {
    "duration": 12,
    "start_time": "2024-06-30T17:36:40.556Z"
   },
   {
    "duration": 8,
    "start_time": "2024-06-30T17:36:40.919Z"
   },
   {
    "duration": 7,
    "start_time": "2024-06-30T17:36:41.350Z"
   },
   {
    "duration": 5,
    "start_time": "2024-06-30T17:36:44.976Z"
   },
   {
    "duration": 6,
    "start_time": "2024-06-30T17:36:45.240Z"
   },
   {
    "duration": 180,
    "start_time": "2024-06-30T17:36:45.586Z"
   },
   {
    "duration": 22,
    "start_time": "2024-06-30T17:36:47.572Z"
   },
   {
    "duration": 5,
    "start_time": "2024-06-30T17:36:48.174Z"
   },
   {
    "duration": 8,
    "start_time": "2024-06-30T17:36:48.687Z"
   },
   {
    "duration": 7,
    "start_time": "2024-06-30T17:36:49.576Z"
   },
   {
    "duration": 5,
    "start_time": "2024-06-30T17:36:50.036Z"
   },
   {
    "duration": 7,
    "start_time": "2024-06-30T17:36:50.465Z"
   },
   {
    "duration": 9,
    "start_time": "2024-06-30T17:36:51.670Z"
   },
   {
    "duration": 5,
    "start_time": "2024-06-30T17:36:52.624Z"
   },
   {
    "duration": 7,
    "start_time": "2024-06-30T17:36:53.085Z"
   },
   {
    "duration": 5,
    "start_time": "2024-06-30T17:37:00.866Z"
   },
   {
    "duration": 7,
    "start_time": "2024-06-30T17:37:01.443Z"
   },
   {
    "duration": 11,
    "start_time": "2024-06-30T17:37:13.163Z"
   },
   {
    "duration": 9,
    "start_time": "2024-06-30T17:37:14.932Z"
   },
   {
    "duration": 10,
    "start_time": "2024-06-30T17:37:16.233Z"
   },
   {
    "duration": 9,
    "start_time": "2024-06-30T17:37:20.524Z"
   },
   {
    "duration": 9,
    "start_time": "2024-06-30T17:37:22.178Z"
   },
   {
    "duration": 10,
    "start_time": "2024-06-30T17:37:23.169Z"
   },
   {
    "duration": 11,
    "start_time": "2024-06-30T17:37:26.472Z"
   },
   {
    "duration": 10,
    "start_time": "2024-06-30T17:37:27.528Z"
   },
   {
    "duration": 13,
    "start_time": "2024-06-30T17:37:28.792Z"
   },
   {
    "duration": 11,
    "start_time": "2024-06-30T17:37:33.591Z"
   },
   {
    "duration": 9,
    "start_time": "2024-06-30T17:37:34.578Z"
   },
   {
    "duration": 11,
    "start_time": "2024-06-30T17:37:36.135Z"
   },
   {
    "duration": 7,
    "start_time": "2024-06-30T17:37:46.665Z"
   },
   {
    "duration": 13,
    "start_time": "2024-06-30T17:37:47.459Z"
   },
   {
    "duration": 13,
    "start_time": "2024-06-30T17:37:53.687Z"
   },
   {
    "duration": 555,
    "start_time": "2024-06-30T17:37:54.270Z"
   },
   {
    "duration": 24,
    "start_time": "2024-06-30T17:37:56.215Z"
   },
   {
    "duration": 12,
    "start_time": "2024-06-30T17:37:56.987Z"
   },
   {
    "duration": 114,
    "start_time": "2024-06-30T17:37:58.832Z"
   },
   {
    "duration": 53,
    "start_time": "2024-06-30T17:38:01.088Z"
   },
   {
    "duration": 6,
    "start_time": "2024-06-30T17:38:01.794Z"
   },
   {
    "duration": 11,
    "start_time": "2024-06-30T17:38:02.240Z"
   },
   {
    "duration": 20,
    "start_time": "2024-06-30T17:38:03.883Z"
   },
   {
    "duration": 25,
    "start_time": "2024-06-30T17:38:07.811Z"
   },
   {
    "duration": 13,
    "start_time": "2024-06-30T17:38:08.469Z"
   },
   {
    "duration": 11,
    "start_time": "2024-06-30T17:38:09.106Z"
   },
   {
    "duration": 23,
    "start_time": "2024-06-30T17:38:23.519Z"
   },
   {
    "duration": 9,
    "start_time": "2024-06-30T17:38:23.848Z"
   },
   {
    "duration": 29,
    "start_time": "2024-06-30T17:38:47.019Z"
   },
   {
    "duration": 4,
    "start_time": "2024-06-30T17:40:01.047Z"
   },
   {
    "duration": 408,
    "start_time": "2024-06-30T17:40:01.335Z"
   },
   {
    "duration": 25,
    "start_time": "2024-06-30T17:40:02.149Z"
   },
   {
    "duration": 9,
    "start_time": "2024-06-30T17:40:02.793Z"
   },
   {
    "duration": 4,
    "start_time": "2024-06-30T17:40:03.855Z"
   },
   {
    "duration": 29,
    "start_time": "2024-06-30T17:40:04.342Z"
   },
   {
    "duration": 6,
    "start_time": "2024-06-30T17:40:04.869Z"
   },
   {
    "duration": 9,
    "start_time": "2024-06-30T17:40:05.381Z"
   },
   {
    "duration": 3,
    "start_time": "2024-06-30T17:40:06.655Z"
   },
   {
    "duration": 17,
    "start_time": "2024-06-30T17:40:07.160Z"
   },
   {
    "duration": 7,
    "start_time": "2024-06-30T17:40:07.612Z"
   },
   {
    "duration": 9,
    "start_time": "2024-06-30T17:40:08.436Z"
   },
   {
    "duration": 26,
    "start_time": "2024-06-30T17:40:16.894Z"
   },
   {
    "duration": 3,
    "start_time": "2024-06-30T17:40:17.465Z"
   },
   {
    "duration": 7,
    "start_time": "2024-06-30T17:40:17.829Z"
   },
   {
    "duration": 5,
    "start_time": "2024-06-30T17:40:22.193Z"
   },
   {
    "duration": 188,
    "start_time": "2024-06-30T17:40:24.657Z"
   },
   {
    "duration": 6,
    "start_time": "2024-06-30T17:40:28.390Z"
   },
   {
    "duration": 6,
    "start_time": "2024-06-30T17:40:29.853Z"
   },
   {
    "duration": 6,
    "start_time": "2024-06-30T17:40:32.796Z"
   },
   {
    "duration": 7,
    "start_time": "2024-06-30T17:40:33.447Z"
   },
   {
    "duration": 5,
    "start_time": "2024-06-30T17:40:34.289Z"
   },
   {
    "duration": 196,
    "start_time": "2024-06-30T17:40:35.924Z"
   },
   {
    "duration": 11,
    "start_time": "2024-06-30T17:40:36.906Z"
   },
   {
    "duration": 6,
    "start_time": "2024-06-30T17:40:38.249Z"
   },
   {
    "duration": 9,
    "start_time": "2024-06-30T17:40:39.857Z"
   },
   {
    "duration": 3,
    "start_time": "2024-06-30T17:40:40.211Z"
   },
   {
    "duration": 6,
    "start_time": "2024-06-30T17:40:40.556Z"
   },
   {
    "duration": 298,
    "start_time": "2024-06-30T17:40:41.073Z"
   },
   {
    "duration": 7,
    "start_time": "2024-06-30T17:40:42.386Z"
   },
   {
    "duration": 6,
    "start_time": "2024-06-30T17:40:43.247Z"
   },
   {
    "duration": 31,
    "start_time": "2024-06-30T17:45:01.128Z"
   },
   {
    "duration": 26,
    "start_time": "2024-06-30T17:45:22.345Z"
   },
   {
    "duration": 336,
    "start_time": "2024-06-30T17:45:56.355Z"
   },
   {
    "duration": 314,
    "start_time": "2024-06-30T17:46:15.480Z"
   },
   {
    "duration": 550,
    "start_time": "2024-06-30T17:47:20.343Z"
   },
   {
    "duration": 29,
    "start_time": "2024-06-30T17:48:16.186Z"
   },
   {
    "duration": 27,
    "start_time": "2024-06-30T17:48:30.289Z"
   },
   {
    "duration": 324,
    "start_time": "2024-06-30T17:48:39.193Z"
   },
   {
    "duration": 13,
    "start_time": "2024-06-30T17:51:14.484Z"
   },
   {
    "duration": 309,
    "start_time": "2024-06-30T17:51:15.178Z"
   },
   {
    "duration": 379,
    "start_time": "2024-06-30T17:51:28.690Z"
   },
   {
    "duration": 17,
    "start_time": "2024-06-30T17:51:33.220Z"
   },
   {
    "duration": 12,
    "start_time": "2024-06-30T17:51:33.739Z"
   },
   {
    "duration": 110,
    "start_time": "2024-06-30T17:51:40.479Z"
   },
   {
    "duration": 15,
    "start_time": "2024-06-30T17:53:06.418Z"
   },
   {
    "duration": 9,
    "start_time": "2024-06-30T17:53:06.821Z"
   },
   {
    "duration": 5,
    "start_time": "2024-06-30T17:53:27.044Z"
   },
   {
    "duration": 14,
    "start_time": "2024-06-30T17:53:28.614Z"
   },
   {
    "duration": 12,
    "start_time": "2024-06-30T17:53:30.267Z"
   },
   {
    "duration": 297,
    "start_time": "2024-06-30T17:53:30.681Z"
   },
   {
    "duration": 15,
    "start_time": "2024-06-30T17:53:31.788Z"
   },
   {
    "duration": 11,
    "start_time": "2024-06-30T17:53:32.226Z"
   },
   {
    "duration": 106,
    "start_time": "2024-06-30T17:53:41.678Z"
   },
   {
    "duration": 5092,
    "start_time": "2024-07-01T14:47:26.932Z"
   },
   {
    "duration": 54,
    "start_time": "2024-07-01T14:47:32.027Z"
   },
   {
    "duration": 44,
    "start_time": "2024-07-01T14:47:32.084Z"
   },
   {
    "duration": 8,
    "start_time": "2024-07-01T14:47:38.469Z"
   },
   {
    "duration": 17,
    "start_time": "2024-07-01T14:47:39.346Z"
   },
   {
    "duration": 11,
    "start_time": "2024-07-01T14:47:39.817Z"
   },
   {
    "duration": 6,
    "start_time": "2024-07-01T14:47:43.700Z"
   },
   {
    "duration": 8,
    "start_time": "2024-07-01T14:47:44.855Z"
   },
   {
    "duration": 17,
    "start_time": "2024-07-01T14:47:46.682Z"
   },
   {
    "duration": 8,
    "start_time": "2024-07-01T14:47:49.846Z"
   },
   {
    "duration": 7,
    "start_time": "2024-07-01T14:47:50.530Z"
   },
   {
    "duration": 791,
    "start_time": "2024-07-01T14:47:54.642Z"
   },
   {
    "duration": 27,
    "start_time": "2024-07-01T14:47:55.701Z"
   },
   {
    "duration": 9,
    "start_time": "2024-07-01T14:48:19.431Z"
   },
   {
    "duration": 28,
    "start_time": "2024-07-01T14:48:30.995Z"
   },
   {
    "duration": 28,
    "start_time": "2024-07-01T14:48:32.753Z"
   },
   {
    "duration": 6,
    "start_time": "2024-07-01T14:49:07.935Z"
   },
   {
    "duration": 7,
    "start_time": "2024-07-01T14:49:08.717Z"
   },
   {
    "duration": 11,
    "start_time": "2024-07-01T14:49:19.410Z"
   },
   {
    "duration": 6,
    "start_time": "2024-07-01T14:49:20.864Z"
   },
   {
    "duration": 5,
    "start_time": "2024-07-01T14:49:21.658Z"
   },
   {
    "duration": 6,
    "start_time": "2024-07-01T14:49:22.517Z"
   },
   {
    "duration": 7,
    "start_time": "2024-07-01T14:49:22.948Z"
   },
   {
    "duration": 5,
    "start_time": "2024-07-01T14:49:23.431Z"
   },
   {
    "duration": 21,
    "start_time": "2024-07-01T14:49:32.524Z"
   },
   {
    "duration": 48,
    "start_time": "2024-07-01T14:51:10.539Z"
   },
   {
    "duration": 4,
    "start_time": "2024-07-01T14:51:29.918Z"
   },
   {
    "duration": 374,
    "start_time": "2024-07-01T14:51:30.779Z"
   },
   {
    "duration": 22,
    "start_time": "2024-07-01T14:51:32.620Z"
   },
   {
    "duration": 12,
    "start_time": "2024-07-01T14:51:33.868Z"
   },
   {
    "duration": 3,
    "start_time": "2024-07-01T14:51:35.328Z"
   },
   {
    "duration": 32,
    "start_time": "2024-07-01T14:51:35.817Z"
   },
   {
    "duration": 6,
    "start_time": "2024-07-01T14:51:36.480Z"
   },
   {
    "duration": 7,
    "start_time": "2024-07-01T14:51:37.663Z"
   },
   {
    "duration": 4,
    "start_time": "2024-07-01T14:51:38.583Z"
   },
   {
    "duration": 12,
    "start_time": "2024-07-01T14:51:38.961Z"
   },
   {
    "duration": 9,
    "start_time": "2024-07-01T14:51:39.489Z"
   },
   {
    "duration": 8,
    "start_time": "2024-07-01T14:51:39.923Z"
   },
   {
    "duration": 13,
    "start_time": "2024-07-01T14:51:45.086Z"
   },
   {
    "duration": 7,
    "start_time": "2024-07-01T14:51:45.461Z"
   },
   {
    "duration": 193,
    "start_time": "2024-07-01T14:51:51.148Z"
   },
   {
    "duration": 28,
    "start_time": "2024-07-01T14:51:52.772Z"
   },
   {
    "duration": 6,
    "start_time": "2024-07-01T14:51:53.366Z"
   },
   {
    "duration": 6,
    "start_time": "2024-07-01T14:51:53.951Z"
   },
   {
    "duration": 7,
    "start_time": "2024-07-01T14:51:55.043Z"
   },
   {
    "duration": 5,
    "start_time": "2024-07-01T14:51:55.549Z"
   },
   {
    "duration": 7,
    "start_time": "2024-07-01T14:51:55.957Z"
   },
   {
    "duration": 17,
    "start_time": "2024-07-01T14:51:59.552Z"
   },
   {
    "duration": 7,
    "start_time": "2024-07-01T14:51:59.967Z"
   },
   {
    "duration": 7,
    "start_time": "2024-07-01T14:52:00.305Z"
   },
   {
    "duration": 4,
    "start_time": "2024-07-01T14:52:04.370Z"
   },
   {
    "duration": 9,
    "start_time": "2024-07-01T14:52:04.749Z"
   },
   {
    "duration": 9,
    "start_time": "2024-07-01T14:52:09.731Z"
   },
   {
    "duration": 13,
    "start_time": "2024-07-01T14:52:13.112Z"
   },
   {
    "duration": 10,
    "start_time": "2024-07-01T14:52:13.953Z"
   },
   {
    "duration": 9,
    "start_time": "2024-07-01T14:52:15.228Z"
   },
   {
    "duration": 9,
    "start_time": "2024-07-01T14:52:16.465Z"
   },
   {
    "duration": 9,
    "start_time": "2024-07-01T14:52:17.313Z"
   },
   {
    "duration": 9,
    "start_time": "2024-07-01T14:52:18.780Z"
   },
   {
    "duration": 9,
    "start_time": "2024-07-01T14:52:19.284Z"
   },
   {
    "duration": 11,
    "start_time": "2024-07-01T14:52:19.916Z"
   },
   {
    "duration": 11,
    "start_time": "2024-07-01T14:52:21.091Z"
   },
   {
    "duration": 8,
    "start_time": "2024-07-01T14:52:22.520Z"
   },
   {
    "duration": 10,
    "start_time": "2024-07-01T14:52:23.362Z"
   },
   {
    "duration": 6,
    "start_time": "2024-07-01T14:52:30.549Z"
   },
   {
    "duration": 12,
    "start_time": "2024-07-01T14:52:31.445Z"
   },
   {
    "duration": 12,
    "start_time": "2024-07-01T14:52:33.750Z"
   },
   {
    "duration": 538,
    "start_time": "2024-07-01T14:52:34.454Z"
   },
   {
    "duration": 22,
    "start_time": "2024-07-01T14:52:40.579Z"
   },
   {
    "duration": 9,
    "start_time": "2024-07-01T14:52:41.044Z"
   },
   {
    "duration": 106,
    "start_time": "2024-07-01T14:52:45.553Z"
   },
   {
    "duration": 28,
    "start_time": "2024-07-01T14:52:47.060Z"
   },
   {
    "duration": 47,
    "start_time": "2024-07-01T14:53:02.925Z"
   },
   {
    "duration": 6,
    "start_time": "2024-07-01T14:53:04.725Z"
   },
   {
    "duration": 9,
    "start_time": "2024-07-01T14:53:06.054Z"
   },
   {
    "duration": 19,
    "start_time": "2024-07-01T14:53:10.664Z"
   },
   {
    "duration": 24,
    "start_time": "2024-07-01T14:53:21.511Z"
   },
   {
    "duration": 10,
    "start_time": "2024-07-01T14:53:22.262Z"
   },
   {
    "duration": 9,
    "start_time": "2024-07-01T14:53:22.745Z"
   },
   {
    "duration": 18,
    "start_time": "2024-07-01T14:53:26.450Z"
   },
   {
    "duration": 5,
    "start_time": "2024-07-01T14:53:31.941Z"
   },
   {
    "duration": 418,
    "start_time": "2024-07-01T14:53:33.853Z"
   },
   {
    "duration": 26,
    "start_time": "2024-07-01T14:53:37.932Z"
   },
   {
    "duration": 9,
    "start_time": "2024-07-01T14:53:38.361Z"
   },
   {
    "duration": 4,
    "start_time": "2024-07-01T14:53:40.176Z"
   },
   {
    "duration": 30,
    "start_time": "2024-07-01T14:53:40.703Z"
   },
   {
    "duration": 5,
    "start_time": "2024-07-01T14:53:41.289Z"
   },
   {
    "duration": 10,
    "start_time": "2024-07-01T14:53:41.734Z"
   },
   {
    "duration": 4,
    "start_time": "2024-07-01T14:53:45.459Z"
   },
   {
    "duration": 21,
    "start_time": "2024-07-01T14:53:45.804Z"
   },
   {
    "duration": 9,
    "start_time": "2024-07-01T14:53:46.414Z"
   },
   {
    "duration": 9,
    "start_time": "2024-07-01T14:53:46.786Z"
   },
   {
    "duration": 24,
    "start_time": "2024-07-01T14:54:22.813Z"
   },
   {
    "duration": 3,
    "start_time": "2024-07-01T14:54:23.283Z"
   },
   {
    "duration": 7,
    "start_time": "2024-07-01T14:54:23.861Z"
   },
   {
    "duration": 6,
    "start_time": "2024-07-01T14:54:24.434Z"
   },
   {
    "duration": 186,
    "start_time": "2024-07-01T14:54:25.069Z"
   },
   {
    "duration": 8,
    "start_time": "2024-07-01T14:54:26.994Z"
   },
   {
    "duration": 6,
    "start_time": "2024-07-01T14:54:28.061Z"
   },
   {
    "duration": 7,
    "start_time": "2024-07-01T14:54:29.163Z"
   },
   {
    "duration": 3,
    "start_time": "2024-07-01T14:54:29.467Z"
   },
   {
    "duration": 6,
    "start_time": "2024-07-01T14:54:29.794Z"
   },
   {
    "duration": 183,
    "start_time": "2024-07-01T14:54:30.368Z"
   },
   {
    "duration": 7,
    "start_time": "2024-07-01T14:54:31.259Z"
   },
   {
    "duration": 5,
    "start_time": "2024-07-01T14:54:31.837Z"
   },
   {
    "duration": 9,
    "start_time": "2024-07-01T14:54:32.567Z"
   },
   {
    "duration": 4,
    "start_time": "2024-07-01T14:54:32.805Z"
   },
   {
    "duration": 6,
    "start_time": "2024-07-01T14:54:33.048Z"
   },
   {
    "duration": 195,
    "start_time": "2024-07-01T14:54:33.503Z"
   },
   {
    "duration": 7,
    "start_time": "2024-07-01T14:54:34.051Z"
   },
   {
    "duration": 6,
    "start_time": "2024-07-01T14:54:34.836Z"
   },
   {
    "duration": 36,
    "start_time": "2024-07-01T14:54:45.648Z"
   },
   {
    "duration": 415,
    "start_time": "2024-07-01T14:54:59.312Z"
   },
   {
    "duration": 664,
    "start_time": "2024-07-01T14:55:16.282Z"
   },
   {
    "duration": 24,
    "start_time": "2024-07-01T15:28:33.895Z"
   },
   {
    "duration": 614,
    "start_time": "2024-07-01T15:29:15.698Z"
   },
   {
    "duration": 1184,
    "start_time": "2024-07-01T15:29:25.980Z"
   },
   {
    "duration": 1634,
    "start_time": "2024-07-01T15:29:35.471Z"
   },
   {
    "duration": 640,
    "start_time": "2024-07-01T15:41:34.693Z"
   },
   {
    "duration": 31,
    "start_time": "2024-07-01T15:50:29.207Z"
   },
   {
    "duration": 139,
    "start_time": "2024-07-01T15:50:36.910Z"
   },
   {
    "duration": 669,
    "start_time": "2024-07-01T15:50:45.518Z"
   },
   {
    "duration": 646,
    "start_time": "2024-07-01T15:50:56.304Z"
   },
   {
    "duration": 33,
    "start_time": "2024-07-01T15:55:53.071Z"
   },
   {
    "duration": 1169,
    "start_time": "2024-07-01T15:56:08.494Z"
   },
   {
    "duration": 1403,
    "start_time": "2024-07-01T16:06:05.628Z"
   },
   {
    "duration": 389,
    "start_time": "2024-07-01T16:06:16.670Z"
   },
   {
    "duration": 389,
    "start_time": "2024-07-01T16:06:33.185Z"
   },
   {
    "duration": 361,
    "start_time": "2024-07-01T16:06:46.587Z"
   },
   {
    "duration": 236,
    "start_time": "2024-07-01T16:06:55.694Z"
   },
   {
    "duration": 204,
    "start_time": "2024-07-01T16:08:58.444Z"
   },
   {
    "duration": 314,
    "start_time": "2024-07-01T16:09:14.250Z"
   },
   {
    "duration": 218,
    "start_time": "2024-07-01T16:09:28.588Z"
   },
   {
    "duration": 334,
    "start_time": "2024-07-01T16:10:20.132Z"
   },
   {
    "duration": 409,
    "start_time": "2024-07-01T16:10:30.275Z"
   },
   {
    "duration": 930,
    "start_time": "2024-07-01T16:11:45.325Z"
   },
   {
    "duration": 374,
    "start_time": "2024-07-01T16:12:00.547Z"
   },
   {
    "duration": 247,
    "start_time": "2024-07-01T16:13:41.677Z"
   },
   {
    "duration": 248,
    "start_time": "2024-07-01T16:14:26.068Z"
   },
   {
    "duration": 27,
    "start_time": "2024-07-01T16:14:32.720Z"
   },
   {
    "duration": 227,
    "start_time": "2024-07-01T16:14:36.904Z"
   },
   {
    "duration": 274,
    "start_time": "2024-07-01T16:15:02.218Z"
   },
   {
    "duration": 254,
    "start_time": "2024-07-01T16:16:46.613Z"
   },
   {
    "duration": 228,
    "start_time": "2024-07-01T16:17:29.743Z"
   },
   {
    "duration": 177,
    "start_time": "2024-07-01T16:18:19.756Z"
   },
   {
    "duration": 190,
    "start_time": "2024-07-01T16:19:16.334Z"
   },
   {
    "duration": 267,
    "start_time": "2024-07-01T16:24:59.673Z"
   },
   {
    "duration": 239,
    "start_time": "2024-07-01T16:25:30.093Z"
   },
   {
    "duration": 323,
    "start_time": "2024-07-01T20:57:50.307Z"
   },
   {
    "duration": 5026,
    "start_time": "2024-07-01T20:57:57.519Z"
   },
   {
    "duration": 58,
    "start_time": "2024-07-01T20:58:02.549Z"
   },
   {
    "duration": 35,
    "start_time": "2024-07-01T20:58:02.610Z"
   },
   {
    "duration": 6,
    "start_time": "2024-07-01T20:58:02.650Z"
   },
   {
    "duration": 119,
    "start_time": "2024-07-01T20:58:02.660Z"
   },
   {
    "duration": 32,
    "start_time": "2024-07-01T20:58:02.783Z"
   },
   {
    "duration": 8,
    "start_time": "2024-07-01T20:58:02.818Z"
   },
   {
    "duration": 8,
    "start_time": "2024-07-01T20:58:02.830Z"
   },
   {
    "duration": 67,
    "start_time": "2024-07-01T20:58:02.842Z"
   },
   {
    "duration": 267,
    "start_time": "2024-07-01T20:58:02.915Z"
   },
   {
    "duration": 245,
    "start_time": "2024-07-01T20:58:03.185Z"
   },
   {
    "duration": 251,
    "start_time": "2024-07-01T20:58:03.432Z"
   },
   {
    "duration": 236,
    "start_time": "2024-07-01T20:58:03.686Z"
   },
   {
    "duration": 7,
    "start_time": "2024-07-01T20:58:03.926Z"
   },
   {
    "duration": 6,
    "start_time": "2024-07-01T20:58:03.937Z"
   },
   {
    "duration": 12,
    "start_time": "2024-07-01T20:58:03.946Z"
   },
   {
    "duration": 64,
    "start_time": "2024-07-01T20:58:03.962Z"
   },
   {
    "duration": 21,
    "start_time": "2024-07-01T20:58:04.029Z"
   },
   {
    "duration": 6,
    "start_time": "2024-07-01T20:58:04.054Z"
   },
   {
    "duration": 7,
    "start_time": "2024-07-01T20:58:04.063Z"
   },
   {
    "duration": 11,
    "start_time": "2024-07-01T20:58:04.107Z"
   },
   {
    "duration": 5,
    "start_time": "2024-07-01T20:58:04.121Z"
   },
   {
    "duration": 5,
    "start_time": "2024-07-01T20:58:04.130Z"
   },
   {
    "duration": 6,
    "start_time": "2024-07-01T20:58:04.138Z"
   },
   {
    "duration": 6,
    "start_time": "2024-07-01T20:58:04.147Z"
   },
   {
    "duration": 6,
    "start_time": "2024-07-01T20:58:04.207Z"
   },
   {
    "duration": 20,
    "start_time": "2024-07-01T20:58:04.215Z"
   },
   {
    "duration": 79,
    "start_time": "2024-07-01T20:58:04.243Z"
   },
   {
    "duration": 5,
    "start_time": "2024-07-01T20:58:04.325Z"
   },
   {
    "duration": 374,
    "start_time": "2024-07-01T20:58:04.333Z"
   },
   {
    "duration": 22,
    "start_time": "2024-07-01T20:58:04.710Z"
   },
   {
    "duration": 8,
    "start_time": "2024-07-01T20:58:04.735Z"
   },
   {
    "duration": 3,
    "start_time": "2024-07-01T20:58:04.747Z"
   },
   {
    "duration": 74,
    "start_time": "2024-07-01T20:58:04.753Z"
   },
   {
    "duration": 6,
    "start_time": "2024-07-01T20:58:04.830Z"
   },
   {
    "duration": 7,
    "start_time": "2024-07-01T20:58:04.839Z"
   },
   {
    "duration": 4,
    "start_time": "2024-07-01T20:58:04.849Z"
   },
   {
    "duration": 53,
    "start_time": "2024-07-01T20:58:04.856Z"
   },
   {
    "duration": 7,
    "start_time": "2024-07-01T20:58:04.912Z"
   },
   {
    "duration": 6,
    "start_time": "2024-07-01T20:58:04.922Z"
   },
   {
    "duration": 6,
    "start_time": "2024-07-01T20:58:04.931Z"
   },
   {
    "duration": 77,
    "start_time": "2024-07-01T20:58:04.939Z"
   },
   {
    "duration": 194,
    "start_time": "2024-07-01T20:58:14.108Z"
   },
   {
    "duration": 180,
    "start_time": "2024-07-01T21:08:09.828Z"
   },
   {
    "duration": 195,
    "start_time": "2024-07-01T21:08:17.851Z"
   },
   {
    "duration": 184,
    "start_time": "2024-07-01T21:08:25.023Z"
   },
   {
    "duration": 183,
    "start_time": "2024-07-01T21:09:52.454Z"
   },
   {
    "duration": 189,
    "start_time": "2024-07-01T21:10:16.477Z"
   },
   {
    "duration": 22,
    "start_time": "2024-07-01T21:12:04.147Z"
   },
   {
    "duration": 5,
    "start_time": "2024-07-01T21:12:04.172Z"
   },
   {
    "duration": 7,
    "start_time": "2024-07-01T21:12:04.826Z"
   },
   {
    "duration": 6,
    "start_time": "2024-07-01T21:12:05.783Z"
   },
   {
    "duration": 5,
    "start_time": "2024-07-01T21:12:06.127Z"
   },
   {
    "duration": 10,
    "start_time": "2024-07-01T21:12:06.429Z"
   },
   {
    "duration": 12,
    "start_time": "2024-07-01T21:12:07.299Z"
   },
   {
    "duration": 4,
    "start_time": "2024-07-01T21:12:07.536Z"
   },
   {
    "duration": 7,
    "start_time": "2024-07-01T21:12:07.750Z"
   },
   {
    "duration": 5,
    "start_time": "2024-07-01T21:12:09.639Z"
   },
   {
    "duration": 6,
    "start_time": "2024-07-01T21:12:10.067Z"
   },
   {
    "duration": 9,
    "start_time": "2024-07-01T21:21:13.648Z"
   },
   {
    "duration": 11,
    "start_time": "2024-07-01T21:21:14.417Z"
   },
   {
    "duration": 9,
    "start_time": "2024-07-01T21:21:15.181Z"
   },
   {
    "duration": 10,
    "start_time": "2024-07-01T21:21:16.200Z"
   },
   {
    "duration": 11,
    "start_time": "2024-07-01T21:21:16.955Z"
   },
   {
    "duration": 9,
    "start_time": "2024-07-01T21:21:17.759Z"
   },
   {
    "duration": 10,
    "start_time": "2024-07-01T21:21:18.607Z"
   },
   {
    "duration": 9,
    "start_time": "2024-07-01T21:21:19.200Z"
   },
   {
    "duration": 10,
    "start_time": "2024-07-01T21:21:19.937Z"
   },
   {
    "duration": 9,
    "start_time": "2024-07-01T21:21:21.507Z"
   },
   {
    "duration": 10,
    "start_time": "2024-07-01T21:21:22.637Z"
   },
   {
    "duration": 10,
    "start_time": "2024-07-01T21:21:23.572Z"
   },
   {
    "duration": 6,
    "start_time": "2024-07-01T21:23:23.296Z"
   },
   {
    "duration": 13,
    "start_time": "2024-07-01T21:23:23.626Z"
   },
   {
    "duration": 11,
    "start_time": "2024-07-01T21:23:24.954Z"
   },
   {
    "duration": 529,
    "start_time": "2024-07-01T21:23:25.454Z"
   },
   {
    "duration": 23,
    "start_time": "2024-07-01T21:23:27.394Z"
   },
   {
    "duration": 9,
    "start_time": "2024-07-01T21:23:30.054Z"
   },
   {
    "duration": 109,
    "start_time": "2024-07-01T21:23:32.824Z"
   },
   {
    "duration": 46,
    "start_time": "2024-07-01T21:23:34.843Z"
   },
   {
    "duration": 6,
    "start_time": "2024-07-01T21:23:35.507Z"
   },
   {
    "duration": 9,
    "start_time": "2024-07-01T21:23:36.155Z"
   },
   {
    "duration": 19,
    "start_time": "2024-07-01T21:23:37.497Z"
   },
   {
    "duration": 26,
    "start_time": "2024-07-01T21:23:38.483Z"
   },
   {
    "duration": 8,
    "start_time": "2024-07-01T21:23:38.930Z"
   },
   {
    "duration": 13,
    "start_time": "2024-07-01T21:23:39.415Z"
   },
   {
    "duration": 26,
    "start_time": "2024-07-01T21:23:40.314Z"
   },
   {
    "duration": 3,
    "start_time": "2024-07-01T21:23:42.317Z"
   },
   {
    "duration": 437,
    "start_time": "2024-07-01T21:23:42.850Z"
   },
   {
    "duration": 30,
    "start_time": "2024-07-01T21:23:43.388Z"
   },
   {
    "duration": 11,
    "start_time": "2024-07-01T21:23:44.174Z"
   },
   {
    "duration": 4,
    "start_time": "2024-07-01T21:23:45.853Z"
   },
   {
    "duration": 7,
    "start_time": "2024-07-01T21:24:01.507Z"
   },
   {
    "duration": 448,
    "start_time": "2024-07-01T21:24:01.922Z"
   },
   {
    "duration": 40,
    "start_time": "2024-07-01T21:24:02.374Z"
   },
   {
    "duration": 10,
    "start_time": "2024-07-01T21:24:02.652Z"
   },
   {
    "duration": 4,
    "start_time": "2024-07-01T21:24:03.691Z"
   },
   {
    "duration": 37,
    "start_time": "2024-07-01T21:24:04.647Z"
   },
   {
    "duration": 6,
    "start_time": "2024-07-01T21:24:05.634Z"
   },
   {
    "duration": 12,
    "start_time": "2024-07-01T21:24:07.478Z"
   },
   {
    "duration": 6,
    "start_time": "2024-07-01T21:24:13.500Z"
   },
   {
    "duration": 81,
    "start_time": "2024-07-01T21:24:13.985Z"
   },
   {
    "duration": 9,
    "start_time": "2024-07-01T21:24:15.437Z"
   },
   {
    "duration": 11,
    "start_time": "2024-07-01T21:24:16.039Z"
   }
  ],
  "kernelspec": {
   "display_name": "Python 3 (ipykernel)",
   "language": "python",
   "name": "python3"
  },
  "language_info": {
   "codemirror_mode": {
    "name": "ipython",
    "version": 3
   },
   "file_extension": ".py",
   "mimetype": "text/x-python",
   "name": "python",
   "nbconvert_exporter": "python",
   "pygments_lexer": "ipython3",
   "version": "3.9.19"
  },
  "toc": {
   "base_numbering": 1,
   "nav_menu": {},
   "number_sections": true,
   "sideBar": true,
   "skip_h1_title": true,
   "title_cell": "Table of Contents",
   "title_sidebar": "Contents",
   "toc_cell": false,
   "toc_position": {},
   "toc_section_display": true,
   "toc_window_display": true
  }
 },
 "nbformat": 4,
 "nbformat_minor": 2
}
